{
  "nbformat": 4,
  "nbformat_minor": 0,
  "metadata": {
    "colab": {
      "name": "main.ipynb",
      "provenance": [],
      "collapsed_sections": [
        "97o6zz7KYuZk",
        "I1TdT-FGYiK0",
        "pv_1Ob7WVHLx",
        "2EtN6332a91u"
      ],
      "machine_shape": "hm",
      "include_colab_link": true
    },
    "kernelspec": {
      "name": "python3",
      "display_name": "Python 3"
    },
    "language_info": {
      "name": "python"
    },
    "accelerator": "GPU"
  },
  "cells": [
    {
      "cell_type": "markdown",
      "metadata": {
        "id": "view-in-github",
        "colab_type": "text"
      },
      "source": [
        "<a href=\"https://colab.research.google.com/github/sh3986/kaggle/blob/main/project3/main.ipynb\" target=\"_parent\"><img src=\"https://colab.research.google.com/assets/colab-badge.svg\" alt=\"Open In Colab\"/></a>"
      ]
    },
    {
      "cell_type": "markdown",
      "metadata": {
        "id": "jQBcvK3KRYyq"
      },
      "source": [
        "# Day2\n",
        "## Speech Command Recognition baseline with Torch\n"
      ]
    },
    {
      "cell_type": "markdown",
      "metadata": {
        "id": "_da3BxBTRdwp"
      },
      "source": [
        "패키지 설치"
      ]
    },
    {
      "cell_type": "code",
      "metadata": {
        "id": "ZpOOWsZQRbfn",
        "colab": {
          "base_uri": "https://localhost:8080/"
        },
        "outputId": "5ee556b5-3e63-4a96-e80e-8e55240febfa"
      },
      "source": [
        "!pip install torchaudio torchinfo\n",
        "!pip install einops\n",
        "# !pip install pyroomacoustics"
      ],
      "execution_count": 1,
      "outputs": [
        {
          "output_type": "stream",
          "name": "stdout",
          "text": [
            "Looking in indexes: https://pypi.org/simple, https://us-python.pkg.dev/colab-wheels/public/simple/\n",
            "Requirement already satisfied: torchaudio in /usr/local/lib/python3.7/dist-packages (0.11.0+cu113)\n",
            "Requirement already satisfied: torchinfo in /usr/local/lib/python3.7/dist-packages (1.7.0)\n",
            "Requirement already satisfied: torch==1.11.0 in /usr/local/lib/python3.7/dist-packages (from torchaudio) (1.11.0+cu113)\n",
            "Requirement already satisfied: typing-extensions in /usr/local/lib/python3.7/dist-packages (from torch==1.11.0->torchaudio) (4.2.0)\n",
            "Looking in indexes: https://pypi.org/simple, https://us-python.pkg.dev/colab-wheels/public/simple/\n",
            "Requirement already satisfied: einops in /usr/local/lib/python3.7/dist-packages (0.4.1)\n"
          ]
        }
      ]
    },
    {
      "cell_type": "markdown",
      "source": [
        "### Library Import"
      ],
      "metadata": {
        "id": "97o6zz7KYuZk"
      }
    },
    {
      "cell_type": "code",
      "metadata": {
        "id": "0B1r0moLRhfB"
      },
      "source": [
        "import torch\n",
        "import torch.fft\n",
        "import torch.nn as nn\n",
        "import torch.nn.functional as F\n",
        "import torchaudio\n",
        "from torchinfo import summary\n",
        "\n",
        "from torch.utils.data import Dataset, IterableDataset\n",
        "from torch.utils.data.dataloader import DataLoader\n",
        "from torchaudio.datasets import SPEECHCOMMANDS\n",
        "\n",
        "import numpy as np\n",
        "import scipy\n",
        "from scipy import signal\n",
        "\n",
        "import soundfile as sf\n",
        "\n",
        "import librosa\n",
        "import librosa.display\n",
        "\n",
        "import matplotlib\n",
        "import matplotlib.pyplot as plt\n",
        "import IPython.display as ipd\n",
        "\n",
        "# import pyroomacoustics as pra\n",
        "\n",
        "from einops import rearrange\n",
        "\n",
        "import io\n",
        "import os\n",
        "import math\n",
        "import glob\n",
        "from tqdm import tqdm\n",
        "from collections import OrderedDict\n"
      ],
      "execution_count": 2,
      "outputs": []
    },
    {
      "cell_type": "markdown",
      "source": [
        "### Wave Analysis Function"
      ],
      "metadata": {
        "id": "I1TdT-FGYiK0"
      }
    },
    {
      "cell_type": "code",
      "source": [
        "def print_stats(waveform, sample_rate=None, src=None):\n",
        "  if src:\n",
        "    print(\"-\" * 10)\n",
        "    print(\"Source:\", src)\n",
        "    print(\"-\" * 10)\n",
        "  if sample_rate:\n",
        "    print(\"Sample Rate:\", sample_rate)\n",
        "  print(\"Shape:\", tuple(waveform.shape))\n",
        "  print(\"Dtype:\", waveform.dtype)\n",
        "  print(f\" - Max:     {waveform.max().item():6.3f}\")\n",
        "  print(f\" - Min:     {waveform.min().item():6.3f}\")\n",
        "  print(f\" - Mean:    {waveform.mean().item():6.3f}\")\n",
        "  print(f\" - Std Dev: {waveform.std().item():6.3f}\")\n",
        "  print()\n",
        "  print(waveform)\n",
        "  print()\n",
        "\n",
        "def plot_waveform(waveform, sample_rate, title=\"Waveform\", xlim=None, ylim=None):\n",
        "\n",
        "  if isinstance(waveform, np.ndarray):\n",
        "    pass\n",
        "  else:\n",
        "    waveform = waveform.numpy()\n",
        "\n",
        "  num_channels, num_frames = waveform.shape\n",
        "  time_axis = np.arange(0, num_frames) / sample_rate\n",
        "\n",
        "  figure, axes = plt.subplots(num_channels, 1)\n",
        "  if num_channels == 1:\n",
        "    axes = [axes]\n",
        "  for c in range(num_channels):\n",
        "    axes[c].plot(time_axis, waveform[c], linewidth=1)\n",
        "    axes[c].grid(True)\n",
        "    if num_channels > 1:\n",
        "      axes[c].set_ylabel(f'Channel {c+1}')\n",
        "    if xlim:\n",
        "      axes[c].set_xlim(xlim)\n",
        "    if ylim:\n",
        "      axes[c].set_ylim(ylim)\n",
        "  figure.suptitle(title)\n",
        "  plt.show(block=False)\n",
        "  \n",
        "def plot_specgram(waveform, sample_rate, title=\"Spectrogram\", xlim=None):\n",
        "  \n",
        "  if isinstance(waveform, np.ndarray):\n",
        "    pass\n",
        "  else:\n",
        "    waveform = waveform.numpy()\n",
        "\n",
        "  num_channels, num_frames = waveform.shape\n",
        "  time_axis = np.arange(0, num_frames) / sample_rate\n",
        "\n",
        "  figure, axes = plt.subplots(num_channels, 1)\n",
        "  if num_channels == 1:\n",
        "    axes = [axes]\n",
        "  for c in range(num_channels):\n",
        "    axes[c].specgram(waveform[c], Fs=sample_rate)\n",
        "    if num_channels > 1:\n",
        "      axes[c].set_ylabel(f'Channel {c+1}')\n",
        "    if xlim:\n",
        "      axes[c].set_xlim(xlim)\n",
        "  figure.suptitle(title)\n",
        "  plt.show(block=False)\n",
        "\n",
        "def play_audio(waveform, sample_rate):\n",
        "  if isinstance(waveform, np.ndarray):\n",
        "    pass\n",
        "  else:\n",
        "    waveform = waveform.numpy()\n",
        "\n",
        "  num_channels, num_frames = waveform.shape\n",
        "  if num_channels == 1:\n",
        "    display(Audio(waveform[0], rate=sample_rate))\n",
        "  elif num_channels == 2:\n",
        "    display(Audio((waveform[0], waveform[1]), rate=sample_rate))\n",
        "  else:\n",
        "    raise ValueError(\"Waveform with more than 2 channels are not supported.\")\n",
        "\n",
        "def plot_spectrogram(spec, title=None, ylabel='freq_bin', aspect='auto', xmax=None):\n",
        "  fig, axs = plt.subplots(1, 1)\n",
        "  axs.set_title(title or 'Spectrogram (db)')\n",
        "  axs.set_ylabel(ylabel)\n",
        "  axs.set_xlabel('frame')\n",
        "  im = axs.imshow(spec, origin='lower', aspect=aspect)\n",
        "  if xmax:\n",
        "    axs.set_xlim((0, xmax))\n",
        "  fig.colorbar(im, ax=axs)\n",
        "  plt.show(block=False)"
      ],
      "metadata": {
        "id": "6JztSAZOYhKd"
      },
      "execution_count": 3,
      "outputs": []
    },
    {
      "cell_type": "code",
      "metadata": {
        "id": "cilVmhEfRos1",
        "colab": {
          "base_uri": "https://localhost:8080/"
        },
        "outputId": "ac52f32a-2cd5-4add-9bb9-39bdee2b6e8f"
      },
      "source": [
        "from google.colab import drive\n",
        "drive.mount('/content/drive')"
      ],
      "execution_count": 4,
      "outputs": [
        {
          "output_type": "stream",
          "name": "stdout",
          "text": [
            "Drive already mounted at /content/drive; to attempt to forcibly remount, call drive.mount(\"/content/drive\", force_remount=True).\n"
          ]
        }
      ]
    },
    {
      "cell_type": "markdown",
      "metadata": {
        "id": "IgTsNMN_ZDCp"
      },
      "source": [
        "GPU 동작 확인"
      ]
    },
    {
      "cell_type": "code",
      "metadata": {
        "id": "bG0duPjpZA7J",
        "colab": {
          "base_uri": "https://localhost:8080/"
        },
        "outputId": "9ff34dfe-eb5b-4c58-f211-5825cfb0a611"
      },
      "source": [
        "device = torch.device(\"cuda\" if torch.cuda.is_available() else \"cpu\")\n",
        "print(device)"
      ],
      "execution_count": 5,
      "outputs": [
        {
          "output_type": "stream",
          "name": "stdout",
          "text": [
            "cuda\n"
          ]
        }
      ]
    },
    {
      "cell_type": "markdown",
      "metadata": {
        "id": "6qlztqQ0TpQ0"
      },
      "source": [
        "Public dataset 경로 \\\n",
        "https://drive.google.com/drive/folders/1CJuVPfiYsI4v1BK-SakT7frf8Nv-p-bn"
      ]
    },
    {
      "cell_type": "code",
      "metadata": {
        "id": "Eq0-6cJ2SOr2"
      },
      "source": [
        "# !ls drive/MyDrive/public_set"
      ],
      "execution_count": 6,
      "outputs": []
    },
    {
      "cell_type": "code",
      "metadata": {
        "id": "dnW37bJ7Siwn"
      },
      "source": [
        "# !ls drive/MyDrive/public_set/npy"
      ],
      "execution_count": 7,
      "outputs": []
    },
    {
      "cell_type": "markdown",
      "metadata": {
        "id": "vmagb4oIUy2q"
      },
      "source": [
        "### Train / Valid set Download"
      ]
    },
    {
      "cell_type": "code",
      "metadata": {
        "colab": {
          "base_uri": "https://localhost:8080/"
        },
        "id": "P_4F5LwOUyM0",
        "outputId": "f26c41b2-19a0-4c22-956e-22fcfd80cfa4"
      },
      "source": [
        "train_set = torchaudio.datasets.SPEECHCOMMANDS(root = '', download = True, subset = \"training\")\n",
        "valid_set = torchaudio.datasets.SPEECHCOMMANDS(root = '', download = True, subset = \"validation\")\n",
        "\n",
        "waveform, sample_rate, label, speaker_id, utterance_number = train_set[0]\n",
        "print(train_set[0])"
      ],
      "execution_count": 120,
      "outputs": [
        {
          "output_type": "stream",
          "name": "stdout",
          "text": [
            "(tensor([[-0.0658, -0.0709, -0.0753,  ..., -0.0700, -0.0731, -0.0704]]), 16000, 'backward', '0165e0e8', 0)\n"
          ]
        }
      ]
    },
    {
      "cell_type": "code",
      "metadata": {
        "colab": {
          "base_uri": "https://localhost:8080/"
        },
        "id": "FloFY6xyXdZk",
        "outputId": "a0dd972e-b887-468e-e53e-af3a3ccc0452"
      },
      "source": [
        "labels = sorted(list(set(datapoint[2] for datapoint in valid_set)))\n",
        "\n",
        "def label_to_index(word):\n",
        "    return torch.tensor(labels.index(word))\n",
        "    \n",
        "print(' '.join(['{} {}'.format(label_to_index(label), label) for label in labels]))"
      ],
      "execution_count": 121,
      "outputs": [
        {
          "output_type": "stream",
          "name": "stdout",
          "text": [
            "0 backward 1 bed 2 bird 3 cat 4 dog 5 down 6 eight 7 five 8 follow 9 forward 10 four 11 go 12 happy 13 house 14 learn 15 left 16 marvin 17 nine 18 no 19 off 20 on 21 one 22 right 23 seven 24 sheila 25 six 26 stop 27 three 28 tree 29 two 30 up 31 visual 32 wow 33 yes 34 zero\n"
          ]
        }
      ]
    },
    {
      "cell_type": "markdown",
      "source": [
        "### Background Noise"
      ],
      "metadata": {
        "id": "o_RPuPSFKIdj"
      }
    },
    {
      "cell_type": "code",
      "source": [
        "noise_data_dir = '/content/drive/MyDrive/Colab Notebooks/Kaggle/project_3_signal/data/noises'\n",
        "noise_file_list = os.listdir(noise_data_dir)\n",
        "noise_file_list = [os.path.join(noise_data_dir, x) for x in noise_file_list]\n",
        "noise_file_list"
      ],
      "metadata": {
        "colab": {
          "base_uri": "https://localhost:8080/"
        },
        "id": "nY5C4f6rKKy2",
        "outputId": "8157d2c3-4e4e-4d74-b125-e49e8e2c6ba8"
      },
      "execution_count": 10,
      "outputs": [
        {
          "output_type": "execute_result",
          "data": {
            "text/plain": [
              "['/content/drive/MyDrive/Colab Notebooks/Kaggle/project_3_signal/data/noises/doing_the_dishes.wav',\n",
              " '/content/drive/MyDrive/Colab Notebooks/Kaggle/project_3_signal/data/noises/dude_miaowing.wav',\n",
              " '/content/drive/MyDrive/Colab Notebooks/Kaggle/project_3_signal/data/noises/white_noise.wav',\n",
              " '/content/drive/MyDrive/Colab Notebooks/Kaggle/project_3_signal/data/noises/running_tap.wav',\n",
              " '/content/drive/MyDrive/Colab Notebooks/Kaggle/project_3_signal/data/noises/pink_noise.wav',\n",
              " '/content/drive/MyDrive/Colab Notebooks/Kaggle/project_3_signal/data/noises/exercise_bike.wav']"
            ]
          },
          "metadata": {},
          "execution_count": 10
        }
      ]
    },
    {
      "cell_type": "code",
      "source": [
        "class NoiseTransformer:\n",
        "    def __init__(self, file_list):\n",
        "        self.data_set = dict()\n",
        "        self.sample_rate = None\n",
        "        for path in file_list:\n",
        "            noise, sample_rate = torchaudio.load(path)\n",
        "            self.data_set[path.split('/')[-1]] = [noise, sample_rate]\n",
        "        self.snr_db_list = [10, 5, 1, -5, -10]\n",
        "\n",
        "    def __len__(self):\n",
        "        return len(self.data_set)\n",
        "\n",
        "    def transform(self, input, idx=None):\n",
        "        audio = torch.Tensor(input)\n",
        "\n",
        "        noise_list = list(self.data_set.keys())\n",
        "        if idx is None:\n",
        "            idx = np.random.randint(len(noise_list))\n",
        "\n",
        "        snr_db = np.random.choice(self.snr_db_list, 1)[0]\n",
        "        noise = self.data_set[noise_list[idx]][0]\n",
        "        sample_rate = self.data_set[noise_list[idx]][1]\n",
        "\n",
        "        noise = noise[:, 5*sample_rate:5*sample_rate + audio.shape[1]]\n",
        "        noise_power = noise.norm(p=2)\n",
        "       \n",
        "        audio_power = audio.norm(p=2)\n",
        "\n",
        "        snr = 10 ** (snr_db / 10)\n",
        "        scale = snr * noise_power / audio_power\n",
        "        noise_audio = (scale * audio + noise) / 2\n",
        "\n",
        "        return noise_audio.numpy()"
      ],
      "metadata": {
        "id": "nlX6qn8DZMSj"
      },
      "execution_count": 186,
      "outputs": []
    },
    {
      "cell_type": "markdown",
      "metadata": {
        "id": "9H1UQS-AgRty"
      },
      "source": [
        "### Torch Dataset"
      ]
    },
    {
      "cell_type": "code",
      "source": [
        "class TrainDataset(Dataset):\n",
        "    def __init__(self, dataset, transformer = None):\n",
        "        super().__init__()\n",
        "        # self.dataset_size = len(dataset)\n",
        "        # self.expand_size = len(dataset) + int(len(dataset)*0.3)\n",
        "        # self.command_dataset = dataset + dataset\n",
        "        self.command_dataset = dataset\n",
        "        self.transformer = transformer\n",
        "\n",
        "    def __getitem__(self, idx):\n",
        "        raw_wav = self.command_dataset[idx][0][0]\n",
        "        raw_wav_pad = np.pad(raw_wav, (0, 16000 - raw_wav.shape[-1]))\n",
        "\n",
        "        audio = np.expand_dims(raw_wav_pad, 0)\n",
        "        # aug in인 인덱스만 변경하도록\n",
        "        # if (self.transformer is not None) and (idx < self.dataset_size):\n",
        "        if (self.transformer is not None) and (np.random.random() > 0.3):\n",
        "            audio = self.transformer.transform(audio)\n",
        "\n",
        "        label_word = self.command_dataset[idx][2]\n",
        "        label_index = label_to_index(label_word)\n",
        "\n",
        "        return audio, label_index\n",
        "\n",
        "    def __len__(self):\n",
        "        # return self.expand_size\n",
        "        return len(self.command_dataset)"
      ],
      "metadata": {
        "id": "f_fbiOy-PLaE"
      },
      "execution_count": 187,
      "outputs": []
    },
    {
      "cell_type": "code",
      "metadata": {
        "id": "umprmaoTTlaQ"
      },
      "source": [
        "class ValidDataSet(Dataset):\n",
        "    def __init__(self, dataset, transformer = None):\n",
        "        super().__init__()\n",
        "        self.command_dataset = dataset\n",
        "        self.transformer = transformer\n",
        "\n",
        "    def __getitem__(self, idx):\n",
        "        raw_wav = self.command_dataset[idx][0][0]\n",
        "        raw_wav_pad = np.pad(raw_wav, (0, 16000 - raw_wav.shape[-1]))\n",
        "        \n",
        "        audio = np.expand_dims(raw_wav_pad, 0)\n",
        "        if (self.transformer is not None) and (np.random.random() > 0.3):\n",
        "            audio = self.transformer.transform(audio)\n",
        "\n",
        "        label_word = self.command_dataset[idx][2]\n",
        "        label_index = label_to_index(label_word)\n",
        "\n",
        "        return audio, label_index\n",
        "\n",
        "    def __len__(self):\n",
        "        return len(self.command_dataset)"
      ],
      "execution_count": 188,
      "outputs": []
    },
    {
      "cell_type": "code",
      "source": [
        "noise_transformer = NoiseTransformer(noise_file_list)\n",
        "train_set_custom = TrainDataset(train_set, noise_transformer)\n",
        "valid_set_custom = ValidDataSet(valid_set)"
      ],
      "metadata": {
        "id": "4LSy6BUAI_L-"
      },
      "execution_count": 189,
      "outputs": []
    },
    {
      "cell_type": "code",
      "source": [
        "# batch_size = 32\n",
        "# train_loader = DataLoader(train_set_custom, \n",
        "#                           batch_size = batch_size, \n",
        "#                           shuffle = True, \n",
        "#                           pin_memory = True, \n",
        "#                           num_workers = 2, \n",
        "#                           worker_init_fn = lambda _: np.random.seed())\n",
        "\n",
        "# for batch_idx, (wav, label) in enumerate(tqdm(train_loader, position = 0)):\n",
        "#     None"
      ],
      "metadata": {
        "id": "d99oLLsp7SKf"
      },
      "execution_count": null,
      "outputs": []
    },
    {
      "cell_type": "markdown",
      "source": [
        "### Audio 확인"
      ],
      "metadata": {
        "id": "pv_1Ob7WVHLx"
      }
    },
    {
      "cell_type": "code",
      "metadata": {
        "colab": {
          "base_uri": "https://localhost:8080/",
          "height": 92
        },
        "id": "hcgxQfU_VfJR",
        "outputId": "ff8f712a-273e-4797-c5ca-a16611d7a4b0"
      },
      "source": [
        "#  확인용\n",
        "data = train_set_custom[7203]\n",
        "print('label : ', data[1])\n",
        "ipd.Audio(data[0], rate=16000)"
      ],
      "execution_count": 77,
      "outputs": [
        {
          "output_type": "stream",
          "name": "stdout",
          "text": [
            "label :  tensor(4)\n"
          ]
        },
        {
          "output_type": "execute_result",
          "data": {
            "text/plain": [
              "<IPython.lib.display.Audio object>"
            ],
            "text/html": [
              "\n",
              "                <audio controls=\"controls\" >\n",
              "                    <source src=\"data:audio/wav;base64,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\" type=\"audio/wav\" />\n",
              "                    Your browser does not support the audio element.\n",
              "                </audio>\n",
              "              "
            ]
          },
          "metadata": {},
          "execution_count": 77
        }
      ]
    },
    {
      "cell_type": "code",
      "source": [
        "ipd.Audio(noise_transformer.transform(data[0]), rate=16000)"
      ],
      "metadata": {
        "colab": {
          "base_uri": "https://localhost:8080/",
          "height": 74
        },
        "id": "dUnqWX-lghNd",
        "outputId": "c939b43a-e265-4cac-ccd1-88235af1476d"
      },
      "execution_count": 90,
      "outputs": [
        {
          "output_type": "execute_result",
          "data": {
            "text/plain": [
              "<IPython.lib.display.Audio object>"
            ],
            "text/html": [
              "\n",
              "                <audio controls=\"controls\" >\n",
              "                    <source src=\"data:audio/wav;base64,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\" type=\"audio/wav\" />\n",
              "                    Your browser does not support the audio element.\n",
              "                </audio>\n",
              "              "
            ]
          },
          "metadata": {},
          "execution_count": 90
        }
      ]
    },
    {
      "cell_type": "markdown",
      "metadata": {
        "id": "y8TQzYD_a8aP"
      },
      "source": [
        "### Data Loader"
      ]
    },
    {
      "cell_type": "code",
      "metadata": {
        "id": "JKTOGhc0Wisp"
      },
      "source": [
        "batch_size = 32\n",
        "train_loader = DataLoader(train_set_custom, \n",
        "                          batch_size = batch_size, \n",
        "                          shuffle = True, \n",
        "                          pin_memory = True, \n",
        "                          num_workers = 2, \n",
        "                          worker_init_fn = lambda _: np.random.seed())\n",
        "\n",
        "valid_loader = DataLoader(valid_set_custom, \n",
        "                          batch_size = batch_size, \n",
        "                          shuffle = False, \n",
        "                          pin_memory = True, \n",
        "                          num_workers = 2, \n",
        "                          worker_init_fn = lambda _: np.random.seed())"
      ],
      "execution_count": 190,
      "outputs": []
    },
    {
      "cell_type": "markdown",
      "metadata": {
        "id": "2EtN6332a91u"
      },
      "source": [
        "### Train / Valid 함수"
      ]
    },
    {
      "cell_type": "code",
      "metadata": {
        "id": "qWbD3hfva_oN"
      },
      "source": [
        "def number_of_correct(pred, target):\n",
        "    return pred.squeeze().eq(target).sum().item()\n",
        "\n",
        "def get_likely_index(tensor): \n",
        "    return tensor.argmax(dim=-1)\n",
        "    \n",
        "def train(model, ep, opt, lossmod):\n",
        "    model.train()\n",
        "    losses = []\n",
        "    for batch_idx, (wav, label) in enumerate(tqdm(train_loader, position = 0)):\n",
        "        wav, label = wav.to(device), label.to(device)\n",
        "\n",
        "        z = net(wav)\n",
        "        loss = lossmod(z, label)\n",
        "        opt.zero_grad()\n",
        "        loss.backward()\n",
        "        opt.step()\n",
        "\n",
        "        losses.append(loss.item())\n",
        "    print('Epoch: {} Loss: {:.4f}'.format(ep, np.average(losses)))\n",
        "\n",
        "def validation(model, ep):\n",
        "    model.eval()\n",
        "    correct = 0\n",
        "    losses = []\n",
        "    for data, target in tqdm(valid_loader, position = 0):\n",
        "        data = data.to(device)\n",
        "        target = target.to(device)\n",
        "\n",
        "        output = net(data)\n",
        "\n",
        "        pred = get_likely_index(output)\n",
        "        correct += number_of_correct(pred, target)\n",
        "    \n",
        "    print(\"Valid epoch: {}, acc: {:.4f}\".format(ep, correct / len(valid_set)))"
      ],
      "execution_count": 191,
      "outputs": []
    },
    {
      "cell_type": "markdown",
      "metadata": {
        "id": "1NzM4VeNZWQN"
      },
      "source": [
        "### Model : 2D CNN"
      ]
    },
    {
      "cell_type": "code",
      "metadata": {
        "id": "8qy9I16WY6ov"
      },
      "source": [
        "class ConvBlock2D(nn.Module):\n",
        "    def __init__(self, c_i, c_o, k = 3, s = 1, pool_k = 2):\n",
        "        super().__init__()\n",
        "        self.block = nn.Sequential(nn.Conv2d(c_i, c_o, k, s),\n",
        "                                   nn.BatchNorm2d(c_o),\n",
        "                                   nn.ReLU(),\n",
        "                                   nn.MaxPool2d(pool_k))\n",
        "    def forward(self, x):\n",
        "        return self.block(x)\n",
        "\n",
        "class CNN2D(nn.Module):\n",
        "    def __init__(self, c_in, c, num_classes):\n",
        "        super().__init__()\n",
        "        self.spec = torchaudio.transforms.MelSpectrogram(sample_rate = 16000, n_fft = 1024, hop_length=256, n_mels = 128)\n",
        "        self.convnet = nn.Sequential(ConvBlock2D(c_in, c),\n",
        "                                     ConvBlock2D(c, c),\n",
        "                                     ConvBlock2D(c, 2 * c),\n",
        "                                     ConvBlock2D(2 * c, 2 * c))\n",
        "        self.linear = nn.Linear(2 * c, num_classes)\n",
        "    \n",
        "    def forward(self, x):\n",
        "        x = torch.log10(self.spec(x) + 1e-5) # log-mel spectrogram: 1D audio -> 2D image-like representation\n",
        "        z = self.convnet(x) # log-mel spec -> 2D CNN -> feature map C x F x T \n",
        "        z = rearrange(F.avg_pool2d(z, z.shape[-2:]), 'b c 1 1 -> b c') # feature map C x F x T -> feature C x 1 x 1\n",
        "        z = self.linear(z) # feature C -> logit N\n",
        "        return z"
      ],
      "execution_count": 192,
      "outputs": []
    },
    {
      "cell_type": "code",
      "metadata": {
        "colab": {
          "base_uri": "https://localhost:8080/"
        },
        "id": "o1UNxz1TZdnf",
        "outputId": "15310a12-3340-4def-b64e-f4055818b9b8"
      },
      "source": [
        "net = CNN2D(c_in = 1, c = 128, num_classes = len(labels)).to(device)\n",
        "summary(net, (1, 1, 16000))"
      ],
      "execution_count": 193,
      "outputs": [
        {
          "output_type": "execute_result",
          "data": {
            "text/plain": [
              "==========================================================================================\n",
              "Layer (type:depth-idx)                   Output Shape              Param #\n",
              "==========================================================================================\n",
              "CNN2D                                    [1, 35]                   --\n",
              "├─MelSpectrogram: 1-1                    [1, 1, 128, 63]           --\n",
              "│    └─Spectrogram: 2-1                  [1, 1, 513, 63]           --\n",
              "│    └─MelScale: 2-2                     [1, 1, 128, 63]           --\n",
              "├─Sequential: 1-2                        [1, 256, 6, 2]            --\n",
              "│    └─ConvBlock2D: 2-3                  [1, 128, 63, 30]          --\n",
              "│    │    └─Sequential: 3-1              [1, 128, 63, 30]          1,536\n",
              "│    └─ConvBlock2D: 2-4                  [1, 128, 30, 14]          --\n",
              "│    │    └─Sequential: 3-2              [1, 128, 30, 14]          147,840\n",
              "│    └─ConvBlock2D: 2-5                  [1, 256, 14, 6]           --\n",
              "│    │    └─Sequential: 3-3              [1, 256, 14, 6]           295,680\n",
              "│    └─ConvBlock2D: 2-6                  [1, 256, 6, 2]            --\n",
              "│    │    └─Sequential: 3-4              [1, 256, 6, 2]            590,592\n",
              "├─Linear: 1-3                            [1, 35]                   8,995\n",
              "==========================================================================================\n",
              "Total params: 1,044,643\n",
              "Trainable params: 1,044,643\n",
              "Non-trainable params: 0\n",
              "Total mult-adds (M): 389.42\n",
              "==========================================================================================\n",
              "Input size (MB): 0.06\n",
              "Forward/backward pass size (MB): 20.81\n",
              "Params size (MB): 4.18\n",
              "Estimated Total Size (MB): 25.05\n",
              "=========================================================================================="
            ]
          },
          "metadata": {},
          "execution_count": 193
        }
      ]
    },
    {
      "cell_type": "markdown",
      "metadata": {
        "id": "jZgPlGFFesjh"
      },
      "source": [
        "### Training : 2D CNN"
      ]
    },
    {
      "cell_type": "code",
      "metadata": {
        "colab": {
          "base_uri": "https://localhost:8080/"
        },
        "id": "WliukPUddv6U",
        "outputId": "19cc7ec9-2021-415b-dc77-4054fcf742b6"
      },
      "source": [
        "n_epoch = 10\n",
        "opt = torch.optim.Adam(net.parameters(), lr = 1e-3)\n",
        "ce = nn.CrossEntropyLoss()\n",
        "for epoch in range(1, n_epoch + 1):\n",
        "    train(net, epoch, opt, ce)\n",
        "    validation(net, epoch)"
      ],
      "execution_count": 194,
      "outputs": [
        {
          "output_type": "stream",
          "name": "stderr",
          "text": [
            "100%|██████████| 2652/2652 [00:40<00:00, 65.59it/s]\n"
          ]
        },
        {
          "output_type": "stream",
          "name": "stdout",
          "text": [
            "Epoch: 1 Loss: 2.2393\n"
          ]
        },
        {
          "output_type": "stream",
          "name": "stderr",
          "text": [
            "100%|██████████| 312/312 [00:03<00:00, 85.03it/s]\n"
          ]
        },
        {
          "output_type": "stream",
          "name": "stdout",
          "text": [
            "Valid epoch: 1, acc: 0.7438\n"
          ]
        },
        {
          "output_type": "stream",
          "name": "stderr",
          "text": [
            "100%|██████████| 2652/2652 [00:40<00:00, 64.93it/s]\n"
          ]
        },
        {
          "output_type": "stream",
          "name": "stdout",
          "text": [
            "Epoch: 2 Loss: 1.2624\n"
          ]
        },
        {
          "output_type": "stream",
          "name": "stderr",
          "text": [
            "100%|██████████| 312/312 [00:03<00:00, 84.85it/s]\n"
          ]
        },
        {
          "output_type": "stream",
          "name": "stdout",
          "text": [
            "Valid epoch: 2, acc: 0.8395\n"
          ]
        },
        {
          "output_type": "stream",
          "name": "stderr",
          "text": [
            "100%|██████████| 2652/2652 [00:40<00:00, 65.42it/s]\n"
          ]
        },
        {
          "output_type": "stream",
          "name": "stdout",
          "text": [
            "Epoch: 3 Loss: 1.0578\n"
          ]
        },
        {
          "output_type": "stream",
          "name": "stderr",
          "text": [
            "100%|██████████| 312/312 [00:03<00:00, 79.11it/s]\n"
          ]
        },
        {
          "output_type": "stream",
          "name": "stdout",
          "text": [
            "Valid epoch: 3, acc: 0.8776\n"
          ]
        },
        {
          "output_type": "stream",
          "name": "stderr",
          "text": [
            "100%|██████████| 2652/2652 [00:40<00:00, 64.87it/s]\n"
          ]
        },
        {
          "output_type": "stream",
          "name": "stdout",
          "text": [
            "Epoch: 4 Loss: 0.9446\n"
          ]
        },
        {
          "output_type": "stream",
          "name": "stderr",
          "text": [
            "100%|██████████| 312/312 [00:03<00:00, 86.72it/s]\n"
          ]
        },
        {
          "output_type": "stream",
          "name": "stdout",
          "text": [
            "Valid epoch: 4, acc: 0.8966\n"
          ]
        },
        {
          "output_type": "stream",
          "name": "stderr",
          "text": [
            "100%|██████████| 2652/2652 [00:40<00:00, 65.36it/s]\n"
          ]
        },
        {
          "output_type": "stream",
          "name": "stdout",
          "text": [
            "Epoch: 5 Loss: 0.8621\n"
          ]
        },
        {
          "output_type": "stream",
          "name": "stderr",
          "text": [
            "100%|██████████| 312/312 [00:03<00:00, 87.43it/s]\n"
          ]
        },
        {
          "output_type": "stream",
          "name": "stdout",
          "text": [
            "Valid epoch: 5, acc: 0.8970\n"
          ]
        },
        {
          "output_type": "stream",
          "name": "stderr",
          "text": [
            "100%|██████████| 2652/2652 [00:40<00:00, 65.28it/s]\n"
          ]
        },
        {
          "output_type": "stream",
          "name": "stdout",
          "text": [
            "Epoch: 6 Loss: 0.8048\n"
          ]
        },
        {
          "output_type": "stream",
          "name": "stderr",
          "text": [
            "100%|██████████| 312/312 [00:03<00:00, 87.23it/s]\n"
          ]
        },
        {
          "output_type": "stream",
          "name": "stdout",
          "text": [
            "Valid epoch: 6, acc: 0.9041\n"
          ]
        },
        {
          "output_type": "stream",
          "name": "stderr",
          "text": [
            "100%|██████████| 2652/2652 [00:40<00:00, 65.17it/s]\n"
          ]
        },
        {
          "output_type": "stream",
          "name": "stdout",
          "text": [
            "Epoch: 7 Loss: 0.7560\n"
          ]
        },
        {
          "output_type": "stream",
          "name": "stderr",
          "text": [
            "100%|██████████| 312/312 [00:03<00:00, 83.88it/s]\n"
          ]
        },
        {
          "output_type": "stream",
          "name": "stdout",
          "text": [
            "Valid epoch: 7, acc: 0.9052\n"
          ]
        },
        {
          "output_type": "stream",
          "name": "stderr",
          "text": [
            "100%|██████████| 2652/2652 [00:40<00:00, 65.72it/s]\n"
          ]
        },
        {
          "output_type": "stream",
          "name": "stdout",
          "text": [
            "Epoch: 8 Loss: 0.7155\n"
          ]
        },
        {
          "output_type": "stream",
          "name": "stderr",
          "text": [
            "100%|██████████| 312/312 [00:03<00:00, 85.63it/s]\n"
          ]
        },
        {
          "output_type": "stream",
          "name": "stdout",
          "text": [
            "Valid epoch: 8, acc: 0.9085\n"
          ]
        },
        {
          "output_type": "stream",
          "name": "stderr",
          "text": [
            "100%|██████████| 2652/2652 [00:40<00:00, 65.32it/s]\n"
          ]
        },
        {
          "output_type": "stream",
          "name": "stdout",
          "text": [
            "Epoch: 9 Loss: 0.6820\n"
          ]
        },
        {
          "output_type": "stream",
          "name": "stderr",
          "text": [
            "100%|██████████| 312/312 [00:03<00:00, 84.71it/s]\n"
          ]
        },
        {
          "output_type": "stream",
          "name": "stdout",
          "text": [
            "Valid epoch: 9, acc: 0.9133\n"
          ]
        },
        {
          "output_type": "stream",
          "name": "stderr",
          "text": [
            "100%|██████████| 2652/2652 [00:40<00:00, 66.16it/s]\n"
          ]
        },
        {
          "output_type": "stream",
          "name": "stdout",
          "text": [
            "Epoch: 10 Loss: 0.6515\n"
          ]
        },
        {
          "output_type": "stream",
          "name": "stderr",
          "text": [
            "100%|██████████| 312/312 [00:03<00:00, 84.94it/s]"
          ]
        },
        {
          "output_type": "stream",
          "name": "stdout",
          "text": [
            "Valid epoch: 10, acc: 0.9012\n"
          ]
        },
        {
          "output_type": "stream",
          "name": "stderr",
          "text": [
            "\n"
          ]
        }
      ]
    },
    {
      "cell_type": "code",
      "source": [
        "model_path = '/content/drive/MyDrive/Colab Notebooks/Kaggle/project_3_signal/model/noise_snr_random_aug.h5'\n",
        "torch.save(net.state_dict(), model_path)"
      ],
      "metadata": {
        "id": "v9otrgBuV-z2"
      },
      "execution_count": 195,
      "outputs": []
    },
    {
      "cell_type": "markdown",
      "metadata": {
        "id": "7gEYsh_shhx1"
      },
      "source": [
        "### 모델 Evaluation"
      ]
    },
    {
      "cell_type": "code",
      "source": [
        "net = CNN2D(c_in = 1, c = 128, num_classes = len(labels)).to(device)\n",
        "net.load_state_dict(torch.load(model_path))"
      ],
      "metadata": {
        "colab": {
          "base_uri": "https://localhost:8080/"
        },
        "id": "4iC0pU1PXSGm",
        "outputId": "f40870d8-7383-4d64-f811-477e5ec9f190"
      },
      "execution_count": 196,
      "outputs": [
        {
          "output_type": "execute_result",
          "data": {
            "text/plain": [
              "<All keys matched successfully>"
            ]
          },
          "metadata": {},
          "execution_count": 196
        }
      ]
    },
    {
      "cell_type": "code",
      "metadata": {
        "id": "Y6Fwf00WhzS3"
      },
      "source": [
        "public_testset_dir = '/content/drive/MyDrive/Colab Notebooks/Kaggle/project_3_signal/data/public_set/npy'"
      ],
      "execution_count": 197,
      "outputs": []
    },
    {
      "cell_type": "code",
      "source": [
        "for folder in ['0','1','2']:\n",
        "    print('folder : ', folder)\n",
        "    wav_npy_list = glob.glob(os.path.join(public_testset_dir, folder, '*.npy'))\n",
        "    wav_npy_list.sort()\n",
        "    wav_npy_list = wav_npy_list[:-1]\n",
        "\n",
        "    ans_npy = np.load(os.path.join(public_testset_dir, folder, 'ans.npy'))\n",
        "    with torch.no_grad():\n",
        "        correct = 0\n",
        "        net.eval()\n",
        "        preds = []\n",
        "        for i, wav_npy_dir in enumerate(tqdm(wav_npy_list, position = 0, leave = True)):\n",
        "            wav_npy = np.load(wav_npy_dir)\n",
        "            wav_npy = torch.tensor(np.reshape(wav_npy, (1, 1, wav_npy.shape[0]))).to(device)\n",
        "            ans = torch.tensor(ans_npy).to(device)\n",
        "            \n",
        "            output = net(wav_npy)\n",
        "\n",
        "            pred = get_likely_index(output)\n",
        "            correct += number_of_correct(pred, ans[i])        \n",
        "\n",
        "            preds.append(pred.detach().cpu().numpy()[0])\n",
        "        print(\"\\nAcc: {:.4f}\\n\".format(correct / len(wav_npy_list)))"
      ],
      "metadata": {
        "colab": {
          "base_uri": "https://localhost:8080/"
        },
        "id": "OM2ZKfjYXqOu",
        "outputId": "f903f5ef-f28a-4c3e-ec6a-f2c19738809e"
      },
      "execution_count": 198,
      "outputs": [
        {
          "output_type": "stream",
          "name": "stdout",
          "text": [
            "folder :  0\n"
          ]
        },
        {
          "output_type": "stream",
          "name": "stderr",
          "text": [
            "100%|██████████| 88/88 [00:00<00:00, 301.32it/s]\n"
          ]
        },
        {
          "output_type": "stream",
          "name": "stdout",
          "text": [
            "\n",
            "Acc: 0.8409\n",
            "\n",
            "folder :  1\n"
          ]
        },
        {
          "output_type": "stream",
          "name": "stderr",
          "text": [
            "100%|██████████| 51/51 [00:00<00:00, 298.54it/s]\n"
          ]
        },
        {
          "output_type": "stream",
          "name": "stdout",
          "text": [
            "\n",
            "Acc: 0.6275\n",
            "\n",
            "folder :  2\n"
          ]
        },
        {
          "output_type": "stream",
          "name": "stderr",
          "text": [
            "100%|██████████| 61/61 [00:00<00:00, 291.35it/s]"
          ]
        },
        {
          "output_type": "stream",
          "name": "stdout",
          "text": [
            "\n",
            "Acc: 0.3934\n",
            "\n"
          ]
        },
        {
          "output_type": "stream",
          "name": "stderr",
          "text": [
            "\n"
          ]
        }
      ]
    },
    {
      "cell_type": "code",
      "source": [
        "pred.detach().cpu().numpy()[0]"
      ],
      "metadata": {
        "colab": {
          "base_uri": "https://localhost:8080/"
        },
        "id": "FVpH0qlSV7ZN",
        "outputId": "0a6672fc-4714-4b38-e840-01dcb12f450e"
      },
      "execution_count": 23,
      "outputs": [
        {
          "output_type": "execute_result",
          "data": {
            "text/plain": [
              "26"
            ]
          },
          "metadata": {},
          "execution_count": 23
        }
      ]
    },
    {
      "cell_type": "markdown",
      "metadata": {
        "id": "FwK0sihJqxwW"
      },
      "source": [
        "Save predict.npy \\\n",
        "data shape을 꼭 확인하세요!"
      ]
    },
    {
      "cell_type": "code",
      "metadata": {
        "id": "OOhd9k0ZqxAq"
      },
      "source": [
        "# np.save('predict.npy', np.asarray(preds))"
      ],
      "execution_count": null,
      "outputs": []
    },
    {
      "cell_type": "markdown",
      "source": [
        "### 참고"
      ],
      "metadata": {
        "id": "nz7zlfKzgb64"
      }
    },
    {
      "cell_type": "markdown",
      "source": [
        "```python\n",
        "# 저장하기:\n",
        "torch.save(model.state_dict(), PATH)\n",
        "\n",
        "# 불러오기:\n",
        "model = TheModelClass(*args, **kwargs)\n",
        "model.load_state_dict(torch.load(PATH))\n",
        "model.eval()\n",
        "```"
      ],
      "metadata": {
        "id": "ihx2E7YrVs03"
      }
    },
    {
      "cell_type": "code",
      "source": [
        "# data_dir = 'drive/MyDrive/tutorial_1_samples'\n",
        "# noise_data_dir = 'drive/MyDrive/tutorial_1_noises'\n",
        "# speech, sample_rate = torchaudio.load(os.path.join(data_dir, 'yes_male.wav'))\n",
        "# noise, sample_rate = torchaudio.load(os.path.join(noise_data_dir, 'exercise_bike.wav'))\n",
        "\n",
        "# noise = noise[:, 5*sample_rate:5*sample_rate + speech.shape[1]]\n",
        "\n",
        "# plot_waveform(speech, sample_rate, title=\"Speech\")\n",
        "# plot_specgram(speech, sample_rate, title=\"Speech\")\n",
        "# plot_waveform(noise, sample_rate, title=\"Background noise\")\n",
        "# plot_specgram(noise, sample_rate, title=\"Background noise\")\n",
        "# play_audio(noise, sample_rate)\n",
        "\n",
        "# speech_power = speech.norm(p=2)\n",
        "# noise_power = noise.norm(p=2)\n",
        "\n",
        "# for snr_db in [20, 3, -6]:\n",
        "#   snr = 10 ** (snr_db / 10)\n",
        "#   scale = snr * noise_power / speech_power\n",
        "#   noisy_speech = (scale * speech + noise) / 2\n",
        "\n",
        "#   plot_waveform(noisy_speech, sample_rate, title=f\"SNR: {snr_db} [dB]\")\n",
        "#   plot_specgram(noisy_speech, sample_rate, title=f\"SNR: {snr_db} [dB]\")\n",
        "#   play_audio(noisy_speech, sample_rate)"
      ],
      "metadata": {
        "id": "ka-6HuwQgdQd"
      },
      "execution_count": null,
      "outputs": []
    },
    {
      "cell_type": "code",
      "source": [
        "from torch.utils.data import IterableDataset\n",
        "\n",
        "class MyIterableDataset(IterableDataset):\n",
        "\n",
        "    def __init__(self, data_path):\n",
        "        self.data_path = data_path\n",
        "\n",
        "    def __iter__(self):\n",
        "        iter_csv = pd.read_csv(self.data_path, sep='\\t', iterator=True, chunksize=1)\n",
        "        for line in iter_csv:\n",
        "            line = line['text'].item()\n",
        "            yield line\n",
        "\n",
        "loader = DataLoader(map_dataset, batch_size=4, num_workers=0)\n",
        "for d in loader:\n",
        "    batch, worker_ids, starts, ends = d\n",
        "    print(batch, worker_ids)"
      ],
      "metadata": {
        "id": "72sdJA4v3nFF"
      },
      "execution_count": null,
      "outputs": []
    },
    {
      "cell_type": "code",
      "source": [
        "class NoiseIterableDataset(IterableDataset):\n",
        "    def __init__(self, dataset, noise_set):\n",
        "        super().__init__()\n",
        "        self.command_dataset = dataset\n",
        "\n",
        "    def __getitem__(self, idx):\n",
        "        raw_wav = self.command_dataset[idx][0][0]\n",
        "        raw_wav_pad = np.pad(raw_wav, (0, 16000 - raw_wav.shape[-1]))\n",
        "\n",
        "        label_word = self.command_dataset[idx][2]\n",
        "        label_index = label_to_index(label_word)\n",
        "\n",
        "        return np.expand_dims(raw_wav_pad, 0), label_index\n",
        "\n",
        "    def __iter__(self):\n",
        "        worker_info = torch.utils.data.get_worker_info()\n",
        "        if worker_info is None:  # 단일 프로세스 데이터로드, 전체 반복자 반환\n",
        "            worker_id = self.rank * worker_info.num_workers + worker_info.id\n",
        "            total_workers = self.world_size * worker_info.num_workers\n",
        "        else:\n",
        "            worker_id = worker_info.id\n",
        "            total_workers = self.dataloader_workers\n",
        "       \n",
        "        for idx in idx_list:\n",
        "            audio, label_index = self[idx]\n",
        "            yield audio, label_index\n",
        "\n",
        "            for noise_idx in range(len(noise_set)):\n",
        "                noise_audio = noise_set.add_noise(audio, noise_idx)\n",
        "                yield noise_audio, label_index\n",
        "\n",
        "    def __len__(self):\n",
        "        return len(self.command_dataset)\n",
        "\n",
        "# train_set_noise = NoiseIterableDataset(train_set, noise_set)"
      ],
      "metadata": {
        "id": "Sqq4yuztJH-o"
      },
      "execution_count": null,
      "outputs": []
    }
  ]
}