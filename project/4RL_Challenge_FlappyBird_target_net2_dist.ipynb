{
  "nbformat": 4,
  "nbformat_minor": 0,
  "metadata": {
    "colab": {
      "name": "RL_Challenge_FlappyBird_target_net2_dist.ipynb",
      "provenance": [],
      "collapsed_sections": [
        "YUmn-KDlu7yV",
        "QabXdcmgqmwD"
      ],
      "include_colab_link": true
    },
    "kernelspec": {
      "name": "python3",
      "display_name": "Python 3"
    },
    "language_info": {
      "name": "python"
    },
    "accelerator": "GPU"
  },
  "cells": [
    {
      "cell_type": "markdown",
      "metadata": {
        "id": "view-in-github",
        "colab_type": "text"
      },
      "source": [
        "<a href=\"https://colab.research.google.com/github/sh3986/kaggle/blob/main/project/4RL_Challenge_FlappyBird_target_net2_dist.ipynb\" target=\"_parent\"><img src=\"https://colab.research.google.com/assets/colab-badge.svg\" alt=\"Open In Colab\"/></a>"
      ]
    },
    {
      "cell_type": "markdown",
      "source": [
        "# Reinforcement Learning Challenge : FlappyBird"
      ],
      "metadata": {
        "id": "TUVhKt2Z4Lzh"
      }
    },
    {
      "cell_type": "code",
      "execution_count": 1,
      "metadata": {
        "id": "l3n1FquB4DM5",
        "colab": {
          "base_uri": "https://localhost:8080/"
        },
        "outputId": "2a37383c-2124-40a7-d6c9-dd55dc2992b9"
      },
      "outputs": [
        {
          "output_type": "stream",
          "name": "stdout",
          "text": [
            "Looking in indexes: https://pypi.org/simple, https://us-python.pkg.dev/colab-wheels/public/simple/\n",
            "Collecting pygame\n",
            "  Downloading pygame-2.1.2-cp37-cp37m-manylinux_2_17_x86_64.manylinux2014_x86_64.whl (21.8 MB)\n",
            "\u001b[K     |████████████████████████████████| 21.8 MB 1.2 MB/s \n",
            "\u001b[?25hCollecting munch\n",
            "  Downloading munch-2.5.0-py2.py3-none-any.whl (10 kB)\n",
            "Requirement already satisfied: six in /usr/local/lib/python3.7/dist-packages (from munch) (1.15.0)\n",
            "Installing collected packages: pygame, munch\n",
            "Successfully installed munch-2.5.0 pygame-2.1.2\n"
          ]
        }
      ],
      "source": [
        "!pip install pygame munch"
      ]
    },
    {
      "cell_type": "markdown",
      "source": [
        "### Google Drive 연동\n",
        "구글 드라이브에 본 프로젝트 폴더를 저장한 후, 구글드라이브를 마운트\n"
      ],
      "metadata": {
        "id": "di1_QoEB_tX2"
      }
    },
    {
      "cell_type": "code",
      "source": [
        "from google.colab import drive\n",
        "drive.mount('/content/gdrive')\n",
        "\n",
        "import sys\n",
        "sys.path.append('/content/gdrive/MyDrive/Colab Notebooks/Kaggle/project_4_RL/RL_Challenge')  # 본 프로젝트 폴더 주소를 입력"
      ],
      "metadata": {
        "id": "pu_JBQxX6l7v",
        "colab": {
          "base_uri": "https://localhost:8080/"
        },
        "outputId": "e5a9c1af-4ac8-48cb-8f4e-3136335d2994"
      },
      "execution_count": 3,
      "outputs": [
        {
          "output_type": "stream",
          "name": "stdout",
          "text": [
            "Mounted at /content/gdrive\n"
          ]
        }
      ]
    },
    {
      "cell_type": "code",
      "source": [
        "%cd /content/gdrive/MyDrive/Colab Notebooks/Kaggle/project_4_RL/RL_Challenge"
      ],
      "metadata": {
        "colab": {
          "base_uri": "https://localhost:8080/"
        },
        "id": "rlMwm9bZioMr",
        "outputId": "26b15f48-9638-4f4c-8efd-1065b2103dd1"
      },
      "execution_count": 4,
      "outputs": [
        {
          "output_type": "stream",
          "name": "stdout",
          "text": [
            "/content/gdrive/MyDrive/Colab Notebooks/Kaggle/project_4_RL/RL_Challenge\n"
          ]
        }
      ]
    },
    {
      "cell_type": "code",
      "source": [
        "import os\n",
        "import sys\n",
        "import time\n",
        "import random\n",
        "import argparse\n",
        "from glob import glob\n",
        "from collections import deque\n",
        "\n",
        "import cv2\n",
        "import torch\n",
        "import torch.nn as nn\n",
        "import torch.optim as optim\n",
        "import torch.nn.functional as F\n",
        "import torchvision.transforms as T\n",
        "from torch.utils.tensorboard import SummaryWriter\n",
        "import numpy as np\n",
        "import matplotlib.pyplot as plt\n",
        "\n",
        "from game import Game\n",
        "from utils import init_weights\n",
        "from munch import Munch"
      ],
      "metadata": {
        "id": "jO3rZjNH8Ogi",
        "colab": {
          "base_uri": "https://localhost:8080/"
        },
        "outputId": "bfc54654-9792-4ce0-86c7-18b54e546574"
      },
      "execution_count": 5,
      "outputs": [
        {
          "output_type": "stream",
          "name": "stdout",
          "text": [
            "pygame 2.1.2 (SDL 2.0.16, Python 3.7.13)\n",
            "Hello from the pygame community. https://www.pygame.org/contribute.html\n"
          ]
        }
      ]
    },
    {
      "cell_type": "code",
      "source": [
        "args = {\n",
        "    \"game\": \"flappy\",\n",
        "    \"gamma\": 0.99,\n",
        "    \"initial_epsilon\": 0.2,\n",
        "    \"final_epsilon\":1e-4,\n",
        "    \"iteration\": 5000000,\n",
        "    \"lr\": 1e-4,\n",
        "    \"use_pretrained\": False,\n",
        "    \"tag\": \"dqn_target_net_7\",\n",
        "    \"writer\": \"writer\",\n",
        "    \"batch_size\" : 64,\n",
        "    \"memory_size\": 50000,\n",
        "    \"update_interval\":10\n",
        "}\n",
        "args = Munch(args)\n",
        "args.writer = SummaryWriter(os.path.join('ckpt', args.tag))\n",
        "\n",
        "os.environ['CUDA_VISIBLE_DEVICES'] = \"0\"\n",
        "print('GPU Enabled: {}'.format(torch.cuda.is_available()))"
      ],
      "metadata": {
        "id": "OI-JJA4cq5rw",
        "colab": {
          "base_uri": "https://localhost:8080/"
        },
        "outputId": "b43596dd-1b12-46f0-c76c-8cdcbccd6999"
      },
      "execution_count": 6,
      "outputs": [
        {
          "output_type": "stream",
          "name": "stdout",
          "text": [
            "GPU Enabled: True\n"
          ]
        }
      ]
    },
    {
      "cell_type": "markdown",
      "source": [
        "###*DQN* class 정의"
      ],
      "metadata": {
        "id": "5awNZMPKWwUS"
      }
    },
    {
      "cell_type": "code",
      "source": [
        "import torch\n",
        "import torch.nn as nn\n",
        "import torch.nn.functional as F\n",
        "\n",
        "\n",
        "class DQN(nn.Module):\n",
        "    def __init__(self, channel_in=1):\n",
        "        super(DQN, self).__init__()\n",
        "        self.number_of_actions = 2\n",
        "\n",
        "        # 1, 1, 84, 84\n",
        "        self.conv1 = nn.Conv2d(channel_in, 32, kernel_size = 8, stride = 4)\n",
        "        # 1, 32, 20, 20\n",
        "        self.conv2 = nn.Conv2d(32, 64, 4, 2)\n",
        "        # 1, 64, 9, 9\n",
        "        self.conv3 = nn.Conv2d(64, 64, 3, 1)\n",
        "        # 1, 64, 7, 7\n",
        "        self.fc4 = nn.Linear(7 * 7 * 64, 512)\n",
        "        self.fc5 = nn.Linear(512, self.number_of_actions)\n",
        "\n",
        "\n",
        "    def forward(self, x):\n",
        "        x = F.relu(self.conv1(x))\n",
        "        x = F.relu(self.conv2(x))\n",
        "        x = F.relu(self.conv3(x))\n",
        "        x = F.relu(self.fc4(x.view(x.size(0), -1)))\n",
        "        return self.fc5(x)\n"
      ],
      "metadata": {
        "id": "ECP1VSJTWvJb"
      },
      "execution_count": 7,
      "outputs": []
    },
    {
      "cell_type": "code",
      "source": [
        "class DQN(nn.Module):\n",
        "    def __init__(self):\n",
        "        super(DQN, self).__init__()\n",
        "        self.number_of_actions = 2\n",
        "\n",
        "        self.fc1 = nn.Linear(7, 10)\n",
        "        self.fc2 = nn.Linear(10, 10)\n",
        "        self.fc3 = nn.Linear(10, self.number_of_actions)\n",
        "\n",
        "    def forward(self, x):\n",
        "        x = F.relu(self.fc1(x))\n",
        "        x = F.relu(self.fc2(x))\n",
        "        x = F.relu(self.fc3(x))\n",
        "        return x"
      ],
      "metadata": {
        "id": "bI15tZ-jrrLT"
      },
      "execution_count": 152,
      "outputs": []
    },
    {
      "cell_type": "code",
      "source": [
        "import collections\n",
        "import random\n",
        "\n",
        "class ReplayBuffer():\n",
        "    def __init__(self):\n",
        "        self.buffer = collections.deque(maxlen=args.memory_size)\n",
        "\n",
        "    def put(self, transition):\n",
        "        self.buffer.append(transition)\n",
        "    \n",
        "    def sample(self):\n",
        "        mini_batch = random.sample(self.buffer,  min(len(self.buffer), args.batch_size))\n",
        "        s_lst, a_lst, r_lst, s_prime_lst, done_lst = [], [], [], [], []\n",
        "\n",
        "        for transition in mini_batch:\n",
        "            s, a, r, s_prime, done = transition\n",
        "            s_lst.append(s)\n",
        "            a_lst.append(a)\n",
        "            r_lst.append(r)\n",
        "            s_prime_lst.append(s_prime)\n",
        "            done_lst.append(done)\n",
        "\n",
        "        return torch.cat(tuple(s for s in s_lst)), \\\n",
        "                torch.cat(tuple(a for a in a_lst)), \\\n",
        "                torch.cat(tuple(r for r in r_lst)), \\\n",
        "                torch.cat(tuple(s_prime for s_prime in s_prime_lst)), \\\n",
        "                torch.cat(tuple(done for done in done_lst))\n",
        "\n",
        "    def flush(self, size=1):\n",
        "        for _ in range(size):\n",
        "            self.buffer.popleft()\n",
        "\n",
        "    def size(self):\n",
        "        return len(self.buffer)\n",
        "    \n",
        "    def isfull(self):\n",
        "        return len(self.buffer) == args.memory_size"
      ],
      "metadata": {
        "id": "V_6UntOc9Ba8"
      },
      "execution_count": 153,
      "outputs": []
    },
    {
      "cell_type": "markdown",
      "source": [
        "### 모델 초기화"
      ],
      "metadata": {
        "id": "cqeuwFv-8HtV"
      }
    },
    {
      "cell_type": "code",
      "source": [
        "def get_state(image):\n",
        "    ima_gray = cv2.cvtColor(cv2.resize(image, (288, 288)), cv2.COLOR_BGR2GRAY)\n",
        "    _, thresh = cv2.threshold(ima_gray, 110, 255, cv2.THRESH_BINARY)\n",
        "    contours, _ = cv2.findContours(thresh, cv2.RETR_TREE, cv2.CHAIN_APPROX_NONE)\n",
        "\n",
        "    pos_list = []\n",
        "    area_list = []\n",
        "    flappy_list =[]\n",
        "    for c in contours:\n",
        "        mmt = cv2.moments(c)\n",
        "        if mmt['m00'] == 0:\n",
        "            continue\n",
        "        # m10/m00, m01/m00 중심점 계산\n",
        "        cx = int(mmt['m10']/mmt['m00'])\n",
        "        cy = int(mmt['m01']/mmt['m00'])\n",
        "\n",
        "        # 영역 넓이\n",
        "        a = mmt['m00']\n",
        "        if ((a > 210) & (a < 530)) | ((a > 15933.00) & (a < 18933.00)):\n",
        "            pos_list.append((cx, cy))\n",
        "            area_list.append(a)\n",
        "\n",
        "        if ((a > 5) & (a < 20)):\n",
        "            flappy_list.append((cx, cy))\n",
        "\n",
        "    flappy = [0, 0]\n",
        "    for f in flappy_list:\n",
        "        flappy[0] += f[0]\n",
        "        flappy[1] += f[1]\n",
        "\n",
        "    flappy = np.array(flappy)/len(flappy_list)\n",
        "\n",
        "    floor_index = np.argsort(area_list)[-1]\n",
        "    floor = pos_list[floor_index]\n",
        "    del pos_list[floor_index]\n",
        "\n",
        "    def calculate_distance(obj1, obj2):\n",
        "        dist = np.sqrt((obj1[0] - obj2[0])**2 + (obj1[1] - obj2[1])**2)\n",
        "        return dist\n",
        "\n",
        "    dist_list = []\n",
        "    for i in range(len(pos_list)):\n",
        "        d = calculate_distance(flappy, pos_list[i])\n",
        "        if d > 50:\n",
        "            dist_list.append(d)\n",
        "\n",
        "    up_pipe = None\n",
        "    down_pipe = None\n",
        "    obj_idx = np.argsort(dist_list)[:2]\n",
        "    obj1 = pos_list[obj_idx[0]]\n",
        "    obj2 = pos_list[obj_idx[1]]\n",
        "\n",
        "    if obj1[0] < obj2[0]:\n",
        "        up_pipe, down_pipe = obj1, obj2\n",
        "    else:\n",
        "        down_pipe, up_pipe = obj1, obj2\n",
        "    \n",
        "    def get_h_dist(obj1, obj2):\n",
        "        return np.abs(obj1[0] - obj2[0])\n",
        "\n",
        "    def get_v_dist(obj1, obj2):\n",
        "        return np.abs(obj1[1] - obj2[1])\n",
        "\n",
        "    state = list(flappy) + [get_h_dist(flappy, up_pipe), get_v_dist(flappy, up_pipe), get_h_dist(flappy, down_pipe), get_v_dist(flappy, down_pipe), get_h_dist(flappy, floor)]\n",
        "    state = torch.from_numpy(np.array([state], dtype=np.float32)).cuda()\n",
        "    return state"
      ],
      "metadata": {
        "id": "e-Jrwap7pPOb"
      },
      "execution_count": 309,
      "outputs": []
    },
    {
      "cell_type": "code",
      "source": [
        "model = DQN()\n",
        "# model_target = DQN()\n",
        "# model_target.load_state_dict(model.state_dict())\n",
        "\n",
        "if args.use_pretrained:\n",
        "    model = torch.load(\n",
        "        sorted(glob(os.path.join('ckpt', args.tag, '*.pth')))[-1]\n",
        "    )\n",
        "else:\n",
        "    os.makedirs(os.path.join('ckpt', args.tag), exist_ok = True)\n",
        "    model.apply(init_weights)\n",
        "\n",
        "model = model.cuda()\n",
        "# model_target = model_target.cuda()\n",
        "start = time.time()\n",
        "\n",
        "episode = 0\n",
        "iteration = 0\n",
        "\n",
        "criterion = nn.MSELoss()\n",
        "optimizer = optim.Adam(model.parameters(), lr=args.lr)\n",
        "\n",
        "# instantiate game\n",
        "memory = ReplayBuffer()\n",
        "game = Game(game=args.game)\n",
        "high_total_reward = 0\n",
        "\n",
        "elapsed_time = 0\n",
        "action = torch.zeros([model.number_of_actions], dtype=torch.float32)\n",
        "total_reward = game.reward\n",
        "terminal = game.game_over()\n",
        "\n",
        "# image_data = game.get_torch_image().cuda()\n",
        "# state = image_data.unsqueeze(0)\n",
        "# image_frame = game.get_torch_image().numpy()\n",
        "# image_data = np.stack((image_frame,image_frame,image_frame,image_frame),axis=1)\n",
        "# state = torch.from_numpy(image_data).cuda()\n",
        "state = get_state(game.get_image()).cuda()\n",
        "\n",
        "start = time.time()"
      ],
      "metadata": {
        "id": "3TnqSBXeqzXN"
      },
      "execution_count": 310,
      "outputs": []
    },
    {
      "cell_type": "markdown",
      "source": [
        "### Debug"
      ],
      "metadata": {
        "id": "YUmn-KDlu7yV"
      }
    },
    {
      "cell_type": "code",
      "source": [
        "state.shape"
      ],
      "metadata": {
        "colab": {
          "base_uri": "https://localhost:8080/"
        },
        "id": "pFYKQWoWuhBN",
        "outputId": "f58d1f4b-38af-4dad-eb26-a83f3233bf0d"
      },
      "execution_count": 311,
      "outputs": [
        {
          "output_type": "execute_result",
          "data": {
            "text/plain": [
              "torch.Size([1, 7])"
            ]
          },
          "metadata": {},
          "execution_count": 311
        }
      ]
    },
    {
      "cell_type": "code",
      "source": [
        "image = cv2.resize(game.get_image(), (288, 288))"
      ],
      "metadata": {
        "id": "0YokwaXptf8u"
      },
      "execution_count": 290,
      "outputs": []
    },
    {
      "cell_type": "code",
      "source": [
        "ima_gray = cv2.cvtColor(cv2.resize(image, (288, 288)), cv2.COLOR_BGR2GRAY)\n",
        "_, thresh = cv2.threshold(ima_gray, 110, 255, cv2.THRESH_BINARY)\n",
        "contours, _ = cv2.findContours(thresh, cv2.RETR_TREE, cv2.CHAIN_APPROX_NONE)"
      ],
      "metadata": {
        "id": "SOvwtYwcttEF"
      },
      "execution_count": 291,
      "outputs": []
    },
    {
      "cell_type": "code",
      "source": [
        "fig, ax = plt.subplots(figsize=(10, 8))\n",
        "ax.imshow(thresh,'gray')"
      ],
      "metadata": {
        "colab": {
          "base_uri": "https://localhost:8080/",
          "height": 504
        },
        "id": "5xEBfpf4Nc6I",
        "outputId": "0238d5c6-e47a-4405-d634-d2b878eeb6d6"
      },
      "execution_count": 292,
      "outputs": [
        {
          "output_type": "execute_result",
          "data": {
            "text/plain": [
              "<matplotlib.image.AxesImage at 0x7f1473c8fbd0>"
            ]
          },
          "metadata": {},
          "execution_count": 292
        },
        {
          "output_type": "display_data",
          "data": {
            "text/plain": [
              "<Figure size 720x576 with 1 Axes>"
            ],
            "image/png": "[encoded data removed]"
          },
          "metadata": {
            "needs_background": "light"
          }
        }
      ]
    },
    {
      "cell_type": "code",
      "source": [
        "image_copy = image.copy()\n",
        "\n",
        "pos_list = []\n",
        "area_list = []\n",
        "flappy_list =[]\n",
        "for c in contours:\n",
        "    mmt = cv2.moments(c)\n",
        "    if mmt['m00'] == 0:\n",
        "        continue\n",
        "    # m10/m00, m01/m00 중심점 계산\n",
        "    cx = int(mmt['m10']/mmt['m00'])\n",
        "    cy = int(mmt['m01']/mmt['m00'])\n",
        "\n",
        "    # 영역 넓이\n",
        "    a = mmt['m00']\n",
        "    if ((a > 5) & (a < 20)):\n",
        "        flappy_list.append((cx, cy))\n",
        "\n",
        "flappy = [0, 0]\n",
        "for f in flappy_list:\n",
        "    flappy[0] += f[0]\n",
        "    flappy[1] += f[1]\n",
        "\n",
        "flappy = np.array(flappy)/len(flappy_list)\n",
        "\n",
        "for c in contours:\n",
        "    mmt = cv2.moments(c)\n",
        "    if mmt['m00'] == 0:\n",
        "        continue\n",
        "    # m10/m00, m01/m00 중심점 계산\n",
        "    cx = int(mmt['m10']/mmt['m00'])\n",
        "    cy = int(mmt['m01']/mmt['m00'])\n",
        "\n",
        "    # 영역 넓이\n",
        "    a = mmt['m00']\n",
        "    \n",
        "    if ((a > 210) & (a < 530)) | ((a > 15933.00) & (a < 18933.00)):\n",
        "        pos_list.append((cx, cy))\n",
        "        area_list.append(a)\n",
        "        # # 영역 외곽선 길이\n",
        "        # l = cv2.arcLength(c, True)\n",
        "\n",
        "        # # 중심점에 노란색 점 그리기\n",
        "        # cv2.circle(image_copy, (cx, cy), 5, (0, 255, 255), -1)\n",
        "\n",
        "        # # 중심점 근처에 넓이 그리기\n",
        "        # cv2.putText(image_copy, \"A:{:0.0f}\".format(a), (cx, cy+20), cv2.FONT_HERSHEY_PLAIN, 1, (0, 0, 255))\n",
        "        # # cv2.putText(image_copy, \"{:0.0f}, {:0.0f}\".format(cx, cy), (cx+10, cy), cv2.FONT_HERSHEY_PLAIN, 1, (0, 0, 255))\n",
        "\n",
        "        # print('area:{:0.2f}'.format(cv2.contourArea(c, False)))\n",
        "\n",
        "##################\n",
        "def calculate_distance(obj1, obj2):\n",
        "    dist = np.sqrt((obj1[0] - obj2[0])**2 + (obj1[1] - obj2[1])**2)\n",
        "    return dist\n",
        "\n",
        "floor_index = np.argsort(area_list)[-1]\n",
        "floor = pos_list[floor_index]\n",
        "del pos_list[floor_index]\n",
        "\n",
        "dist_list = []\n",
        "for i in range(len(pos_list)):\n",
        "    d = calculate_distance(flappy, pos_list[i])\n",
        "    if d > 50:\n",
        "        dist_list.append(d)\n",
        "\n",
        "up_pipe = None\n",
        "down_pipe = None\n",
        "obj_idx = np.argsort(dist_list)[:2]\n",
        "obj1 = pos_list[obj_idx[0]]\n",
        "obj2 = pos_list[obj_idx[1]]\n",
        "\n",
        "if obj1[0] < obj2[0]:\n",
        "    up_pipe, down_pipe = obj1, obj2\n",
        "else:\n",
        "    down_pipe, up_pipe = obj1, obj2\n",
        "\n",
        "label = ['flappy', 'up', 'down', 'floor']\n",
        "for i, obj in enumerate([flappy, up_pipe, down_pipe, floor]):\n",
        "    cx = int(obj[0])\n",
        "    cy = int(obj[1])\n",
        "    cv2.circle(image_copy, (cx, cy), 5, (0, 255, 255), -1)\n",
        "    cv2.putText(image_copy, label[i], (cx-10, cy-10), cv2.FONT_HERSHEY_PLAIN, 1, (0, 0, 255), 2)\n",
        "\n",
        "# 중심점에 노란색 점 그리기\n",
        "cv2.circle(image_copy, (cx, cy), 5, (0, 255, 255), -1)\n",
        "\n",
        "# 중심점 근처에 넓이 그리기\n",
        "cv2.putText(image_copy, \"A:{:0.0f}\".format(a), (cx, cy+20), cv2.FONT_HERSHEY_PLAIN, 1, (0, 0, 255))\n",
        "cv2.putText(image_copy, \"{:0.0f}, {:0.0f}\".format(cx, cy), (cx+10, cy), cv2.FONT_HERSHEY_PLAIN, 1, (0, 0, 255))\n",
        "\n",
        "fig, ax = plt.subplots(figsize=(10, 8))\n",
        "ax.imshow(image_copy)"
      ],
      "metadata": {
        "colab": {
          "base_uri": "https://localhost:8080/",
          "height": 504
        },
        "id": "7ioj7D23t5WY",
        "outputId": "ebeaee07-0476-4819-ece0-2add0bc23e44"
      },
      "execution_count": 308,
      "outputs": [
        {
          "output_type": "execute_result",
          "data": {
            "text/plain": [
              "<matplotlib.image.AxesImage at 0x7f1473aa3110>"
            ]
          },
          "metadata": {},
          "execution_count": 308
        },
        {
          "output_type": "display_data",
          "data": {
            "text/plain": [
              "<Figure size 720x576 with 1 Axes>"
            ],
            "image/png": "[encoded data removed]"
          },
          "metadata": {
            "needs_background": "light"
          }
        }
      ]
    },
    {
      "cell_type": "code",
      "source": [
        "dist_list = []\n",
        "for i in range(len(pos_list)):\n",
        "    d = calculate_distance(flappy, pos_list[i])\n",
        "    if d > 50:\n",
        "        dist_list.append(d)\n",
        "\n",
        "up_pipe = None\n",
        "down_pipe = None\n",
        "obj_idx = np.argsort(dist_list)[:2]\n",
        "obj1 = pos_list[obj_idx[0]]\n",
        "obj2 = pos_list[obj_idx[1]]"
      ],
      "metadata": {
        "id": "ssmkzd-EQBx5"
      },
      "execution_count": 299,
      "outputs": []
    },
    {
      "cell_type": "code",
      "source": [
        "flappy"
      ],
      "metadata": {
        "colab": {
          "base_uri": "https://localhost:8080/"
        },
        "id": "xAuiJrHUQeaJ",
        "outputId": "dcb20894-79e6-4929-8707-07adfc6fea33"
      },
      "execution_count": 301,
      "outputs": [
        {
          "output_type": "execute_result",
          "data": {
            "text/plain": [
              "array([nan, nan])"
            ]
          },
          "metadata": {},
          "execution_count": 301
        }
      ]
    },
    {
      "cell_type": "code",
      "source": [
        "def get_h_dist(obj1, obj2):\n",
        "    return np.abs(obj1[0] - obj2[0])\n",
        "\n",
        "def get_v_dist(obj1, obj2):\n",
        "    return np.abs(obj1[1] - obj2[1])\n",
        "\n",
        "get_h_dist(flappy, up_pipe), get_v_dist(flappy, up_pipe), get_h_dist(flappy, down_pipe), get_v_dist(flappy, down_pipe), get_h_dist(flappy, floor)"
      ],
      "metadata": {
        "colab": {
          "base_uri": "https://localhost:8080/"
        },
        "id": "M1PtZUrSLydO",
        "outputId": "394f20a4-b078-44b9-cdfa-72e5b27549d6"
      },
      "execution_count": 145,
      "outputs": [
        {
          "output_type": "execute_result",
          "data": {
            "text/plain": [
              "(19.0, 81.0, 106.0, 81.0, 170.0)"
            ]
          },
          "metadata": {},
          "execution_count": 145
        }
      ]
    },
    {
      "cell_type": "markdown",
      "source": [
        "### 강화학습"
      ],
      "metadata": {
        "id": "zs7bpTx98m9D"
      }
    },
    {
      "cell_type": "markdown",
      "source": [
        "20점 넘는 state는 그냥 다른 memory에 저장?\n"
      ],
      "metadata": {
        "id": "598nZEiKjkjp"
      }
    },
    {
      "cell_type": "code",
      "source": [
        "while iteration < args.iteration:\n",
        "    output = model(state)[0]\n",
        "    action = torch.zeros([model.number_of_actions], dtype=torch.float32)\n",
        "    \n",
        "    # epsilon greedy exploration\n",
        "    # Pick action --> random or index of maximum q value\n",
        "    # if total_reward >= 19:\n",
        "    #     epsilon = args.final_epsilon + ((args.iteration - iteration*0.7) * (args.initial_epsilon - args.final_epsilon) / args.iteration)\n",
        "    # else:\n",
        "    epsilon = args.final_epsilon + ((args.iteration - iteration) * (args.initial_epsilon - args.final_epsilon) / args.iteration)\n",
        "\n",
        "    coin = random.random()\n",
        "    random_action = coin <= epsilon\n",
        "    if random_action:\n",
        "        action_index =  random.randint(0, 1)\n",
        "    else:\n",
        "        action_index =  output.argmax().item()\n",
        "\n",
        "\n",
        "    action[action_index] = 1\n",
        "\n",
        "    elapsed_time = time.time() - start\n",
        "\n",
        "    # get next state and reward\n",
        "    terminal = game.game_over()\n",
        "    game_reward = game.act(action_index)\n",
        "    \n",
        "    # image_data_1 = game.get_torch_image().cuda()\n",
        "    # state_1 = image_data_1.unsqueeze(0)\n",
        "\n",
        "    # image_frame_1 = game.get_torch_image().numpy()\n",
        "    # state_1 = np.append(image_frame_1.reshape(1,1,84,84),state[:, :3, :].cpu(),axis=1)\n",
        "    # state_1 = torch.from_numpy(state_1).cuda()\n",
        "    state_1 = get_state(game.get_image()).cuda()\n",
        "\n",
        "    action = action.unsqueeze(0).cuda()\n",
        "    reward = torch.from_numpy(np.array([game_reward], dtype=np.float32)).unsqueeze(0).cuda()\n",
        "    done = torch.from_numpy(np.array([1.0 if terminal else 0.0], dtype=np.float32)).unsqueeze(0).cuda()\n",
        "\n",
        "    # save transition to replay memory\n",
        "    memory.put((state, action, reward, state_1, done))\n",
        "    # if replay memory is full, remove the oldest transition\n",
        "    if memory.isfull():\n",
        "        memory.flush()\n",
        "\n",
        "    #### minibatch Train\n",
        "    # sample random minibatch\n",
        "    if terminal:\n",
        "        s_batch, a_batch, r_batch, s_prime_batch, done_batch = memory.sample()\n",
        "        s_batch = s_batch.cuda()\n",
        "        a_batch = a_batch.cuda()\n",
        "        r_batch = r_batch.cuda()\n",
        "        s_prime_batch = s_prime_batch.cuda()\n",
        "        done_batch = done_batch.cuda()\n",
        "\n",
        "        # get output for the next state\n",
        "        q_out = model(s_batch)\n",
        "        q_prime_out = model(s_prime_batch) # q target으로 하도록\n",
        "\n",
        "        # 종료한 state는 더 이상 미래의 보상이 없으니까 (max Q 구할 필요 없음)\n",
        "        y_hat = torch.cat(\n",
        "                    tuple(reward if done else reward + args.gamma * torch.max(prediction) for reward, done, prediction in zip(r_batch, done_batch, q_prime_out))\n",
        "                )\n",
        "        y_hat = y_hat.detach()\n",
        "        q_value = torch.sum(q_out * a_batch, dim=1)\n",
        "        \n",
        "        # calculate with target network\n",
        "        optimizer.zero_grad()\n",
        "        loss = criterion(q_value, y_hat)\n",
        "\n",
        "        loss.backward()\n",
        "        optimizer.step()\n",
        "        args.writer.add_scalar('Train/loss', loss, iteration)\n",
        "\n",
        "    state = state_1\n",
        "    iteration += 1\n",
        "    total_reward += game.reward\n",
        "\n",
        "    # if episode%args.update_interval == 0:\n",
        "    #     model_target.load_state_dict(model.state_dict())\n",
        "\n",
        "\n",
        "    if terminal:\n",
        "        args.writer.add_scalar('Episode/elapsed_time', elapsed_time, episode)\n",
        "        args.writer.add_scalar('Episode/episode', episode, episode)\n",
        "        args.writer.add_scalar('Episode/total_reward', total_reward, episode)\n",
        "        \n",
        "        game.reset_game()\n",
        "        episode += 1\n",
        "        start = time.time()\n",
        "        print('Episode {} (Iteration {}): Agent passed {} pipes!, Time: {:.3f} epsilon: {:.4f} loss: {:.4f}'.format(episode, iteration, total_reward, elapsed_time, epsilon, loss))\n",
        "        if total_reward > high_total_reward:\n",
        "            print('Weight Saved!')\n",
        "            high_total_reward = total_reward\n",
        "            torch.save(model,\n",
        "                        os.path.join('ckpt', args.tag, 'E{:07d}_S{:03d}.pth'.format(episode, int(total_reward)))\n",
        "                        )\n",
        "        total_reward = 0\n",
        "        # image_data = game.get_torch_image().cuda()\n",
        "        # state = image_data.unsqueeze(0)\n",
        "\n",
        "print(\"Saving final model\")\n",
        "torch.save(model,\n",
        "            os.path.join('ckpt', args.tag, 'E_{:07d}_S{:03d}.pth'.format(episode, int(high_total_reward)))\n",
        "            )"
      ],
      "metadata": {
        "colab": {
          "base_uri": "https://localhost:8080/"
        },
        "id": "tc2DIycBqwu1",
        "outputId": "df1666ec-add6-4f56-b5d3-8c8dece1b94f"
      },
      "execution_count": null,
      "outputs": [
        {
          "output_type": "stream",
          "name": "stdout",
          "text": [
            "Episode 1 (Iteration 38): Agent passed 0.0 pipes!, Time: 4.327 epsilon: 0.2000 loss: 367.0456\n",
            "Episode 2 (Iteration 76): Agent passed 0.0 pipes!, Time: 0.121 epsilon: 0.2000 loss: 286.4882\n",
            "Episode 3 (Iteration 114): Agent passed 0.0 pipes!, Time: 0.122 epsilon: 0.2000 loss: 353.1873\n",
            "Episode 4 (Iteration 152): Agent passed 0.0 pipes!, Time: 0.115 epsilon: 0.2000 loss: 211.5347\n",
            "Episode 5 (Iteration 190): Agent passed 0.0 pipes!, Time: 0.126 epsilon: 0.2000 loss: 269.4613\n",
            "Episode 6 (Iteration 228): Agent passed 0.0 pipes!, Time: 0.113 epsilon: 0.2000 loss: 220.5174\n",
            "Episode 7 (Iteration 266): Agent passed 0.0 pipes!, Time: 0.118 epsilon: 0.2000 loss: 419.4038\n",
            "Episode 8 (Iteration 304): Agent passed 0.0 pipes!, Time: 0.133 epsilon: 0.2000 loss: 196.5086\n",
            "Episode 9 (Iteration 342): Agent passed 0.0 pipes!, Time: 0.123 epsilon: 0.2000 loss: 301.4721\n",
            "Episode 10 (Iteration 380): Agent passed 0.0 pipes!, Time: 0.121 epsilon: 0.2000 loss: 128.5837\n",
            "Episode 11 (Iteration 421): Agent passed 0.0 pipes!, Time: 0.129 epsilon: 0.2000 loss: 154.2935\n",
            "Episode 12 (Iteration 459): Agent passed 0.0 pipes!, Time: 0.117 epsilon: 0.2000 loss: 340.7168\n",
            "Episode 13 (Iteration 507): Agent passed 1.0 pipes!, Time: 0.157 epsilon: 0.2000 loss: 362.5037\n",
            "Weight Saved!\n",
            "Episode 14 (Iteration 545): Agent passed 0.0 pipes!, Time: 0.124 epsilon: 0.2000 loss: 96.7906\n",
            "Episode 15 (Iteration 583): Agent passed 0.0 pipes!, Time: 0.119 epsilon: 0.2000 loss: 301.0711\n",
            "Episode 16 (Iteration 630): Agent passed 1.0 pipes!, Time: 0.142 epsilon: 0.2000 loss: 218.9500\n",
            "Episode 17 (Iteration 668): Agent passed 0.0 pipes!, Time: 0.121 epsilon: 0.2000 loss: 234.8469\n",
            "Episode 18 (Iteration 706): Agent passed 0.0 pipes!, Time: 0.116 epsilon: 0.2000 loss: 244.4810\n",
            "Episode 19 (Iteration 744): Agent passed 0.0 pipes!, Time: 0.126 epsilon: 0.2000 loss: 175.3179\n",
            "Episode 20 (Iteration 796): Agent passed 1.0 pipes!, Time: 0.181 epsilon: 0.2000 loss: 277.6283\n",
            "Episode 21 (Iteration 837): Agent passed 0.0 pipes!, Time: 0.143 epsilon: 0.2000 loss: 140.9909\n",
            "Episode 22 (Iteration 875): Agent passed 0.0 pipes!, Time: 0.129 epsilon: 0.2000 loss: 237.4570\n",
            "Episode 23 (Iteration 926): Agent passed 1.0 pipes!, Time: 0.179 epsilon: 0.2000 loss: 327.7999\n",
            "Episode 24 (Iteration 964): Agent passed 0.0 pipes!, Time: 0.121 epsilon: 0.2000 loss: 150.2620\n",
            "Episode 25 (Iteration 1002): Agent passed 0.0 pipes!, Time: 0.122 epsilon: 0.2000 loss: 246.8544\n",
            "Episode 26 (Iteration 1040): Agent passed 0.0 pipes!, Time: 0.126 epsilon: 0.2000 loss: 208.0237\n",
            "Episode 27 (Iteration 1087): Agent passed 1.0 pipes!, Time: 0.170 epsilon: 0.2000 loss: 345.1291\n",
            "Episode 28 (Iteration 1125): Agent passed 0.0 pipes!, Time: 0.136 epsilon: 0.2000 loss: 272.0391\n",
            "Episode 29 (Iteration 1174): Agent passed 1.0 pipes!, Time: 0.160 epsilon: 0.2000 loss: 321.1624\n",
            "Episode 30 (Iteration 1212): Agent passed 0.0 pipes!, Time: 0.115 epsilon: 0.2000 loss: 303.0867\n",
            "Episode 31 (Iteration 1250): Agent passed 0.0 pipes!, Time: 0.124 epsilon: 0.2000 loss: 214.6694\n",
            "Episode 32 (Iteration 1288): Agent passed 0.0 pipes!, Time: 0.116 epsilon: 0.1999 loss: 226.9662\n",
            "Episode 33 (Iteration 1326): Agent passed 0.0 pipes!, Time: 0.127 epsilon: 0.1999 loss: 370.6463\n",
            "Episode 34 (Iteration 1364): Agent passed 0.0 pipes!, Time: 0.117 epsilon: 0.1999 loss: 155.4311\n",
            "Episode 35 (Iteration 1402): Agent passed 0.0 pipes!, Time: 0.141 epsilon: 0.1999 loss: 171.9456\n",
            "Episode 36 (Iteration 1447): Agent passed 1.0 pipes!, Time: 0.140 epsilon: 0.1999 loss: 77.4005\n",
            "Episode 37 (Iteration 1485): Agent passed 0.0 pipes!, Time: 0.121 epsilon: 0.1999 loss: 204.6233\n",
            "Episode 38 (Iteration 1529): Agent passed 1.0 pipes!, Time: 0.141 epsilon: 0.1999 loss: 361.0353\n",
            "Episode 39 (Iteration 1567): Agent passed 0.0 pipes!, Time: 0.124 epsilon: 0.1999 loss: 226.4908\n",
            "Episode 40 (Iteration 1605): Agent passed 0.0 pipes!, Time: 0.128 epsilon: 0.1999 loss: 204.9733\n",
            "Episode 41 (Iteration 1643): Agent passed 0.0 pipes!, Time: 0.124 epsilon: 0.1999 loss: 146.6958\n",
            "Episode 42 (Iteration 1681): Agent passed 0.0 pipes!, Time: 0.117 epsilon: 0.1999 loss: 121.1976\n",
            "Episode 43 (Iteration 1719): Agent passed 0.0 pipes!, Time: 0.121 epsilon: 0.1999 loss: 292.9575\n",
            "Episode 44 (Iteration 1757): Agent passed 0.0 pipes!, Time: 0.113 epsilon: 0.1999 loss: 269.6716\n",
            "Episode 45 (Iteration 1795): Agent passed 0.0 pipes!, Time: 0.119 epsilon: 0.1999 loss: 198.5773\n",
            "Episode 46 (Iteration 1835): Agent passed 0.0 pipes!, Time: 0.120 epsilon: 0.1999 loss: 118.3177\n",
            "Episode 47 (Iteration 1876): Agent passed 0.0 pipes!, Time: 0.131 epsilon: 0.1999 loss: 265.9879\n",
            "Episode 48 (Iteration 1916): Agent passed 0.0 pipes!, Time: 0.146 epsilon: 0.1999 loss: 310.3951\n",
            "Episode 49 (Iteration 1954): Agent passed 0.0 pipes!, Time: 0.120 epsilon: 0.1999 loss: 283.5066\n",
            "Episode 50 (Iteration 1992): Agent passed 0.0 pipes!, Time: 0.119 epsilon: 0.1999 loss: 228.6526\n",
            "Episode 51 (Iteration 2056): Agent passed 1.0 pipes!, Time: 0.204 epsilon: 0.1999 loss: 168.9012\n",
            "Episode 52 (Iteration 2094): Agent passed 0.0 pipes!, Time: 0.113 epsilon: 0.1999 loss: 230.8537\n",
            "Episode 53 (Iteration 2132): Agent passed 0.0 pipes!, Time: 0.119 epsilon: 0.1999 loss: 221.2125\n",
            "Episode 54 (Iteration 2170): Agent passed 0.0 pipes!, Time: 0.129 epsilon: 0.1999 loss: 358.5497\n",
            "Episode 55 (Iteration 2208): Agent passed 0.0 pipes!, Time: 0.126 epsilon: 0.1999 loss: 186.4319\n",
            "Episode 56 (Iteration 2246): Agent passed 0.0 pipes!, Time: 0.114 epsilon: 0.1999 loss: 245.5079\n",
            "Episode 57 (Iteration 2320): Agent passed 1.0 pipes!, Time: 0.242 epsilon: 0.1999 loss: 199.1011\n",
            "Episode 58 (Iteration 2358): Agent passed 0.0 pipes!, Time: 0.114 epsilon: 0.1999 loss: 399.3441\n",
            "Episode 59 (Iteration 2396): Agent passed 0.0 pipes!, Time: 0.119 epsilon: 0.1999 loss: 155.2197\n",
            "Episode 60 (Iteration 2443): Agent passed 1.0 pipes!, Time: 0.143 epsilon: 0.1999 loss: 73.9581\n",
            "Episode 61 (Iteration 2481): Agent passed 0.0 pipes!, Time: 0.120 epsilon: 0.1999 loss: 92.1936\n",
            "Episode 62 (Iteration 2519): Agent passed 0.0 pipes!, Time: 0.122 epsilon: 0.1999 loss: 296.9965\n",
            "Episode 63 (Iteration 2557): Agent passed 0.0 pipes!, Time: 0.117 epsilon: 0.1999 loss: 155.6355\n",
            "Episode 64 (Iteration 2599): Agent passed 1.0 pipes!, Time: 0.144 epsilon: 0.1999 loss: 194.1820\n",
            "Episode 65 (Iteration 2637): Agent passed 0.0 pipes!, Time: 0.120 epsilon: 0.1999 loss: 161.5291\n",
            "Episode 66 (Iteration 2683): Agent passed 1.0 pipes!, Time: 0.143 epsilon: 0.1999 loss: 317.4139\n",
            "Episode 67 (Iteration 2721): Agent passed 0.0 pipes!, Time: 0.116 epsilon: 0.1999 loss: 91.2654\n",
            "Episode 68 (Iteration 2759): Agent passed 0.0 pipes!, Time: 0.118 epsilon: 0.1999 loss: 144.4680\n",
            "Episode 69 (Iteration 2797): Agent passed 0.0 pipes!, Time: 0.117 epsilon: 0.1999 loss: 165.7166\n",
            "Episode 70 (Iteration 2835): Agent passed 0.0 pipes!, Time: 0.116 epsilon: 0.1999 loss: 68.5681\n",
            "Episode 71 (Iteration 2881): Agent passed 1.0 pipes!, Time: 0.144 epsilon: 0.1999 loss: 103.4013\n",
            "Episode 72 (Iteration 2919): Agent passed 0.0 pipes!, Time: 0.115 epsilon: 0.1999 loss: 68.5008\n",
            "Episode 73 (Iteration 2958): Agent passed 0.0 pipes!, Time: 0.120 epsilon: 0.1999 loss: 269.7698\n",
            "Episode 74 (Iteration 2996): Agent passed 0.0 pipes!, Time: 0.118 epsilon: 0.1999 loss: 172.0836\n",
            "Episode 75 (Iteration 3034): Agent passed 0.0 pipes!, Time: 0.120 epsilon: 0.1999 loss: 208.8152\n",
            "Episode 76 (Iteration 3072): Agent passed 0.0 pipes!, Time: 0.130 epsilon: 0.1999 loss: 142.6400\n",
            "Episode 77 (Iteration 3110): Agent passed 0.0 pipes!, Time: 0.136 epsilon: 0.1999 loss: 195.2717\n",
            "Episode 78 (Iteration 3148): Agent passed 0.0 pipes!, Time: 0.123 epsilon: 0.1999 loss: 152.7440\n",
            "Episode 79 (Iteration 3186): Agent passed 0.0 pipes!, Time: 0.123 epsilon: 0.1999 loss: 190.4005\n",
            "Episode 80 (Iteration 3225): Agent passed 0.0 pipes!, Time: 0.116 epsilon: 0.1999 loss: 203.2947\n",
            "Episode 81 (Iteration 3263): Agent passed 0.0 pipes!, Time: 0.119 epsilon: 0.1999 loss: 142.3434\n",
            "Episode 82 (Iteration 3301): Agent passed 0.0 pipes!, Time: 0.118 epsilon: 0.1999 loss: 223.0107\n",
            "Episode 83 (Iteration 3340): Agent passed 0.0 pipes!, Time: 0.122 epsilon: 0.1999 loss: 113.8764\n",
            "Episode 84 (Iteration 3378): Agent passed 0.0 pipes!, Time: 0.114 epsilon: 0.1999 loss: 220.9766\n",
            "Episode 85 (Iteration 3423): Agent passed 1.0 pipes!, Time: 0.146 epsilon: 0.1999 loss: 201.8915\n",
            "Episode 86 (Iteration 3463): Agent passed 0.0 pipes!, Time: 0.123 epsilon: 0.1999 loss: 277.4936\n",
            "Episode 87 (Iteration 3513): Agent passed 1.0 pipes!, Time: 0.159 epsilon: 0.1999 loss: 202.2838\n",
            "Episode 88 (Iteration 3562): Agent passed 1.0 pipes!, Time: 0.151 epsilon: 0.1999 loss: 189.5345\n",
            "Episode 89 (Iteration 3616): Agent passed 1.0 pipes!, Time: 0.175 epsilon: 0.1999 loss: 245.3489\n",
            "Episode 90 (Iteration 3659): Agent passed 1.0 pipes!, Time: 0.136 epsilon: 0.1999 loss: 186.0570\n",
            "Episode 91 (Iteration 3712): Agent passed 1.0 pipes!, Time: 0.174 epsilon: 0.1999 loss: 139.1998\n",
            "Episode 92 (Iteration 3750): Agent passed 0.0 pipes!, Time: 0.116 epsilon: 0.1999 loss: 94.3943\n",
            "Episode 93 (Iteration 3789): Agent passed 0.0 pipes!, Time: 0.137 epsilon: 0.1998 loss: 174.2454\n",
            "Episode 94 (Iteration 3835): Agent passed 1.0 pipes!, Time: 0.156 epsilon: 0.1998 loss: 100.9206\n",
            "Episode 95 (Iteration 3881): Agent passed 1.0 pipes!, Time: 0.159 epsilon: 0.1998 loss: 186.1743\n",
            "Episode 96 (Iteration 3919): Agent passed 0.0 pipes!, Time: 0.127 epsilon: 0.1998 loss: 178.3625\n",
            "Episode 97 (Iteration 3957): Agent passed 0.0 pipes!, Time: 0.123 epsilon: 0.1998 loss: 203.6718\n",
            "Episode 98 (Iteration 3995): Agent passed 0.0 pipes!, Time: 0.123 epsilon: 0.1998 loss: 110.4489\n",
            "Episode 99 (Iteration 4041): Agent passed 1.0 pipes!, Time: 0.143 epsilon: 0.1998 loss: 243.6915\n",
            "Episode 100 (Iteration 4083): Agent passed 1.0 pipes!, Time: 0.130 epsilon: 0.1998 loss: 184.9381\n",
            "Episode 101 (Iteration 4134): Agent passed 1.0 pipes!, Time: 0.162 epsilon: 0.1998 loss: 196.3372\n",
            "Episode 102 (Iteration 4205): Agent passed 1.0 pipes!, Time: 0.223 epsilon: 0.1998 loss: 68.2292\n",
            "Episode 103 (Iteration 4243): Agent passed 0.0 pipes!, Time: 0.117 epsilon: 0.1998 loss: 121.9143\n",
            "Episode 104 (Iteration 4281): Agent passed 0.0 pipes!, Time: 0.125 epsilon: 0.1998 loss: 140.2292\n",
            "Episode 105 (Iteration 4319): Agent passed 0.0 pipes!, Time: 0.119 epsilon: 0.1998 loss: 161.4978\n",
            "Episode 106 (Iteration 4357): Agent passed 0.0 pipes!, Time: 0.121 epsilon: 0.1998 loss: 184.0159\n",
            "Episode 107 (Iteration 4397): Agent passed 0.0 pipes!, Time: 0.122 epsilon: 0.1998 loss: 132.2509\n",
            "Episode 108 (Iteration 4440): Agent passed 1.0 pipes!, Time: 0.136 epsilon: 0.1998 loss: 240.0904\n",
            "Episode 109 (Iteration 4480): Agent passed 0.0 pipes!, Time: 0.119 epsilon: 0.1998 loss: 134.8676\n",
            "Episode 110 (Iteration 4531): Agent passed 1.0 pipes!, Time: 0.160 epsilon: 0.1998 loss: 140.3086\n",
            "Episode 111 (Iteration 4574): Agent passed 1.0 pipes!, Time: 0.134 epsilon: 0.1998 loss: 118.9811\n",
            "Episode 112 (Iteration 4612): Agent passed 0.0 pipes!, Time: 0.125 epsilon: 0.1998 loss: 190.3984\n",
            "Episode 113 (Iteration 4650): Agent passed 0.0 pipes!, Time: 0.115 epsilon: 0.1998 loss: 164.7530\n",
            "Episode 114 (Iteration 4700): Agent passed 1.0 pipes!, Time: 0.160 epsilon: 0.1998 loss: 218.9966\n",
            "Episode 115 (Iteration 4738): Agent passed 0.0 pipes!, Time: 0.118 epsilon: 0.1998 loss: 143.5336\n",
            "Episode 116 (Iteration 4787): Agent passed 1.0 pipes!, Time: 0.151 epsilon: 0.1998 loss: 129.2039\n",
            "Episode 117 (Iteration 4825): Agent passed 0.0 pipes!, Time: 0.116 epsilon: 0.1998 loss: 228.5502\n",
            "Episode 118 (Iteration 4863): Agent passed 0.0 pipes!, Time: 0.120 epsilon: 0.1998 loss: 108.5377\n",
            "Episode 119 (Iteration 4905): Agent passed 1.0 pipes!, Time: 0.133 epsilon: 0.1998 loss: 162.7065\n",
            "Episode 120 (Iteration 4970): Agent passed 1.0 pipes!, Time: 0.232 epsilon: 0.1998 loss: 180.0170\n",
            "Episode 121 (Iteration 5008): Agent passed 0.0 pipes!, Time: 0.126 epsilon: 0.1998 loss: 220.9290\n",
            "Episode 122 (Iteration 5046): Agent passed 0.0 pipes!, Time: 0.129 epsilon: 0.1998 loss: 145.7107\n",
            "Episode 123 (Iteration 5100): Agent passed 1.0 pipes!, Time: 0.177 epsilon: 0.1998 loss: 101.3955\n",
            "Episode 124 (Iteration 5138): Agent passed 0.0 pipes!, Time: 0.119 epsilon: 0.1998 loss: 213.3770\n",
            "Episode 125 (Iteration 5176): Agent passed 0.0 pipes!, Time: 0.126 epsilon: 0.1998 loss: 77.1983\n",
            "Episode 126 (Iteration 5214): Agent passed 0.0 pipes!, Time: 0.116 epsilon: 0.1998 loss: 197.5603\n",
            "Episode 127 (Iteration 5252): Agent passed 0.0 pipes!, Time: 0.116 epsilon: 0.1998 loss: 148.9434\n",
            "Episode 128 (Iteration 5304): Agent passed 1.0 pipes!, Time: 0.164 epsilon: 0.1998 loss: 200.7578\n",
            "Episode 129 (Iteration 5355): Agent passed 1.0 pipes!, Time: 0.162 epsilon: 0.1998 loss: 170.4311\n",
            "Episode 130 (Iteration 5393): Agent passed 0.0 pipes!, Time: 0.131 epsilon: 0.1998 loss: 226.3828\n",
            "Episode 131 (Iteration 5431): Agent passed 0.0 pipes!, Time: 0.132 epsilon: 0.1998 loss: 72.3211\n",
            "Episode 132 (Iteration 5469): Agent passed 0.0 pipes!, Time: 0.137 epsilon: 0.1998 loss: 92.0900\n",
            "Episode 133 (Iteration 5507): Agent passed 0.0 pipes!, Time: 0.135 epsilon: 0.1998 loss: 131.5873\n",
            "Episode 134 (Iteration 5558): Agent passed 1.0 pipes!, Time: 0.178 epsilon: 0.1998 loss: 203.3234\n",
            "Episode 135 (Iteration 5605): Agent passed 1.0 pipes!, Time: 0.149 epsilon: 0.1998 loss: 154.1732\n",
            "Episode 136 (Iteration 5654): Agent passed 1.0 pipes!, Time: 0.152 epsilon: 0.1998 loss: 127.9650\n",
            "Episode 137 (Iteration 5708): Agent passed 1.0 pipes!, Time: 0.178 epsilon: 0.1998 loss: 79.1800\n",
            "Episode 138 (Iteration 5774): Agent passed 1.0 pipes!, Time: 0.210 epsilon: 0.1998 loss: 94.1065\n",
            "Episode 139 (Iteration 5812): Agent passed 0.0 pipes!, Time: 0.116 epsilon: 0.1998 loss: 106.1344\n",
            "Episode 140 (Iteration 5860): Agent passed 1.0 pipes!, Time: 0.152 epsilon: 0.1998 loss: 122.9699\n",
            "Episode 141 (Iteration 5898): Agent passed 0.0 pipes!, Time: 0.114 epsilon: 0.1998 loss: 118.3635\n",
            "Episode 142 (Iteration 5951): Agent passed 1.0 pipes!, Time: 0.167 epsilon: 0.1998 loss: 153.9775\n",
            "Episode 143 (Iteration 5999): Agent passed 1.0 pipes!, Time: 0.156 epsilon: 0.1998 loss: 107.5633\n",
            "Episode 144 (Iteration 6037): Agent passed 0.0 pipes!, Time: 0.129 epsilon: 0.1998 loss: 127.7961\n",
            "Episode 145 (Iteration 6075): Agent passed 0.0 pipes!, Time: 0.124 epsilon: 0.1998 loss: 94.4339\n",
            "Episode 146 (Iteration 6118): Agent passed 1.0 pipes!, Time: 0.148 epsilon: 0.1998 loss: 250.0132\n",
            "Episode 147 (Iteration 6167): Agent passed 1.0 pipes!, Time: 0.156 epsilon: 0.1998 loss: 120.3153\n",
            "Episode 148 (Iteration 6209): Agent passed 1.0 pipes!, Time: 0.132 epsilon: 0.1998 loss: 164.5922\n",
            "Episode 149 (Iteration 6254): Agent passed 1.0 pipes!, Time: 0.148 epsilon: 0.1998 loss: 104.2673\n",
            "Episode 150 (Iteration 6308): Agent passed 1.0 pipes!, Time: 0.170 epsilon: 0.1997 loss: 124.7517\n",
            "Episode 151 (Iteration 6346): Agent passed 0.0 pipes!, Time: 0.125 epsilon: 0.1997 loss: 101.2339\n",
            "Episode 152 (Iteration 6389): Agent passed 1.0 pipes!, Time: 0.139 epsilon: 0.1997 loss: 172.9134\n",
            "Episode 153 (Iteration 6439): Agent passed 1.0 pipes!, Time: 0.156 epsilon: 0.1997 loss: 151.7960\n",
            "Episode 154 (Iteration 6477): Agent passed 0.0 pipes!, Time: 0.140 epsilon: 0.1997 loss: 170.4384\n",
            "Episode 155 (Iteration 6516): Agent passed 0.0 pipes!, Time: 0.134 epsilon: 0.1997 loss: 93.8305\n"
          ]
        }
      ]
    },
    {
      "cell_type": "markdown",
      "source": [
        "### 기존 코드"
      ],
      "metadata": {
        "id": "4_PeL9LW9i_V"
      }
    },
    {
      "cell_type": "code",
      "source": [
        "import os\n",
        "import sys\n",
        "import time\n",
        "import random\n",
        "import argparse\n",
        "from glob import glob\n",
        "from collections import deque\n",
        "\n",
        "import cv2\n",
        "import torch\n",
        "import torch.nn as nn\n",
        "import torch.optim as optim\n",
        "import torch.nn.functional as F\n",
        "import torchvision.transforms as T\n",
        "from torch.utils.tensorboard import SummaryWriter\n",
        "import numpy as np\n",
        "\n",
        "from game import Game\n",
        "from utils import init_weights\n",
        "from munch import Munch\n",
        "\n",
        "def train(args):\n",
        "    model = DQN()\n",
        "    if args.use_pretrained:\n",
        "        model = torch.load(\n",
        "            sorted(glob(os.path.join('ckpt', args.tag, '*.pth')))[-1]\n",
        "        )\n",
        "    else:\n",
        "        os.makedirs(os.path.join('ckpt', args.tag), exist_ok = True)\n",
        "        model.apply(init_weights)\n",
        "    model = model.cuda()\n",
        "    start = time.time()\n",
        "\n",
        "    episode = 0\n",
        "    iteration = 0\n",
        "    epsilon = args.epsilon\n",
        "\n",
        "    criterion = nn.MSELoss()\n",
        "    optimizer = optim.Adam(model.parameters(), lr=args.lr)\n",
        "\n",
        "    # instantiate game\n",
        "    game = Game(game=args.game)\n",
        "    high_total_reward = 0\n",
        "\n",
        "    # initialize replay memory\n",
        "    \"\"\"\n",
        "    TO DO\n",
        "\n",
        "    D =\n",
        "    \"\"\"\n",
        "\n",
        "    elapsed_time = 0\n",
        "    action = torch.zeros([model.number_of_actions], dtype=torch.float32)\n",
        "    total_reward = game.reward\n",
        "    terminal = game.game_over()\n",
        "\n",
        "    image_data = game.get_torch_image().cuda()\n",
        "    state = image_data.unsqueeze(0)\n",
        "\n",
        "    start = time.time()\n",
        "\n",
        "    while iteration < args.iteration:\n",
        "        output = model(state)[0]\n",
        "        action = torch.zeros([model.number_of_actions], dtype=torch.float32)\n",
        "\n",
        "        # epsilon greedy exploration\n",
        "        random_action = False\n",
        "        \"\"\"\n",
        "        TO DO\n",
        "\n",
        "        random_action =\n",
        "        \"\"\"\n",
        "\n",
        "        # Pick action --> random or index of maximum q value\n",
        "        action_index = 0\n",
        "        \"\"\"\n",
        "        TO DO\n",
        "\n",
        "        action_index =\n",
        "        \"\"\"\n",
        "\n",
        "        action[action_index] = 1\n",
        "\n",
        "        elapsed_time = time.time() - start\n",
        "\n",
        "        # get next state and reward\n",
        "        reward = game.act(action_index)\n",
        "        terminal = game.game_over()\n",
        "        image_data_1 = game.get_torch_image().cuda()\n",
        "\n",
        "        state_1 = image_data_1.unsqueeze(0)\n",
        "        action = action.unsqueeze(0).cuda()\n",
        "        reward = torch.from_numpy(np.array([reward], dtype=np.float32)).unsqueeze(0).cuda()\n",
        "\n",
        "        # save transition to replay memory\n",
        "        \"\"\"\n",
        "        TO DO\n",
        "        \"\"\"\n",
        "\n",
        "        # if replay memory is full, remove the oldest transition\n",
        "        \"\"\"\n",
        "        TO DO\n",
        "        \"\"\"\n",
        "\n",
        "        # sample random minibatch\n",
        "        \"\"\"\n",
        "        TO DO\n",
        "        \"\"\"\n",
        "\n",
        "        # get output for the next state\n",
        "        output_1 = model(state_1)\n",
        "\n",
        "        y = reward if terminal else reward + args.gamma * torch.max(output_1)\n",
        "\n",
        "        # calculate with target network\n",
        "        q_value = torch.sum(model(state) * action, dim=1)\n",
        "\n",
        "        optimizer.zero_grad()\n",
        "        y = y.detach()\n",
        "        loss = criterion(q_value, y)\n",
        "\n",
        "        loss.backward()\n",
        "        optimizer.step()\n",
        "\n",
        "        state = state_1\n",
        "        iteration += 1\n",
        "        total_reward += game.reward\n",
        "\n",
        "        args.writer.add_scalar('Train/loss', loss, iteration)\n",
        "\n",
        "        if terminal:\n",
        "            args.writer.add_scalar('Episode/elapsed_time', elapsed_time, episode)\n",
        "            args.writer.add_scalar('Episode/episode', episode, episode)\n",
        "            args.writer.add_scalar('Episode/total_reward', total_reward, episode)\n",
        "            total_reward = 0\n",
        "            game.reset_game()\n",
        "            episode += 1\n",
        "            start = time.time()\n",
        "            print('Episode {} (Iteration {}): Agent passed {} pipes!, Time: {:.3f}'.format(episode, iteration, total_reward, elapsed_time))\n",
        "            if total_reward > high_total_reward:\n",
        "                print('Weight Saved!')\n",
        "                high_total_reward = total_reward\n",
        "                torch.save(model,\n",
        "                           os.path.join('ckpt', args.tag, 'E{:07d}_S{:03d}.pth'.format(episode, int(total_reward)))\n",
        "                           )\n",
        "    print(\"Saving final model\")\n",
        "    torch.save(model,\n",
        "               os.path.join('ckpt', args.tag, 'E_{:07d}_S{:03d}.pth'.format(episode, int(high_total_reward)))\n",
        "               )"
      ],
      "metadata": {
        "id": "5-8NHrQgX1qU"
      },
      "execution_count": null,
      "outputs": []
    },
    {
      "cell_type": "code",
      "source": [
        "from munch import Munch\n",
        "#parser = argparse.ArgumentParser(description='Deep Q Learning')\n",
        "# Simple parser\n",
        "args = {\n",
        "    \"game\": \"flappy\",\n",
        "    \"gamma\": 0.99,\n",
        "    \"epsilon\": 0.02,\n",
        "    \"iteration\": 1000000,\n",
        "    \"lr\": 1e-4,\n",
        "    \"use_pretrained\": False,\n",
        "    \"tag\": \"dqn\",\n",
        "    \"writer\": \"writer\"\n",
        "}\n",
        "args = Munch(args)\n",
        "\n",
        "args.writer = SummaryWriter(os.path.join('ckpt', args.tag))\n",
        "\n",
        "os.environ['CUDA_VISIBLE_DEVICES'] = \"0\"\n",
        "print('GPU Enabled: {}'.format(torch.cuda.is_available()))\n",
        "\n",
        "train(args)\n"
      ],
      "metadata": {
        "id": "nZxWPpsCX7Jc"
      },
      "execution_count": null,
      "outputs": []
    },
    {
      "cell_type": "markdown",
      "source": [
        "### Test"
      ],
      "metadata": {
        "id": "QabXdcmgqmwD"
      }
    },
    {
      "cell_type": "code",
      "source": [
        "import os\n",
        "import time\n",
        "import argparse\n",
        "from glob import glob\n",
        "\n",
        "import torch\n",
        "\n",
        "from game import Game\n",
        "from utils import Recorder\n",
        "\n",
        "def test(args):\n",
        "    model = torch.load(\n",
        "        sorted(glob(os.path.join('ckpt', args.tag, '*.pth')))[-1],\n",
        "        map_location='cpu'\n",
        "    ).eval()\n",
        "    print('Loaded model: {}'.format(sorted(glob(os.path.join('ckpt', args.tag, '*.pth')))[-1]))\n",
        "    # initialize video writer\n",
        "    video_filename = 'output_{}.avi'.format(args.tag)\n",
        "\n",
        "    dict_screen_shape = {\n",
        "        \"flappy\":(288, 512),\n",
        "    }\n",
        "    out = Recorder(video_filename=video_filename, fps=30,\n",
        "                   width=dict_screen_shape[args.game][0],\n",
        "                   height=dict_screen_shape[args.game][1])\n",
        "    total_reward_list = []\n",
        "    time_list = []\n",
        "\n",
        "    rewards = {\n",
        "        \"positive\": 1, # when the plasyer pass the pipe\n",
        "        \"tick\": 0, # at every tick\n",
        "        \"loss\": 0, # when died\n",
        "    }\n",
        "    game = Game(seed=args.seed, game=args.game, rewards=rewards)\n",
        "    for trials in range(10):\n",
        "\n",
        "        elapsed_Time = 0\n",
        "        action = torch.zeros([model.number_of_actions], dtype=torch.float32)\n",
        "        terminal = game.game_over()\n",
        "        start = time.time()\n",
        "        total_reward = 0\n",
        "\n",
        "        image_data = game.get_torch_image()\n",
        "        state = image_data.unsqueeze(0)\n",
        "        while not terminal:\n",
        "            output = model(state)[0]\n",
        "            action = torch.zeros([model.number_of_actions], dtype=torch.float32)\n",
        "            action_index = torch.argmax(output)\n",
        "            total_reward += game.act(action_index)\n",
        "            terminal = game.game_over()\n",
        "            image_data_1 = game.get_torch_image()\n",
        "            state = image_data_1.unsqueeze(0)\n",
        "\n",
        "            out.write(game.get_image())\n",
        "\n",
        "        game.reset_game()\n",
        "        total_reward_list.append(total_reward)\n",
        "        time_list.append(time.time()-start)\n",
        "        print('Game Ended!')\n",
        "        print('Total reward: {} !'.format(total_reward))\n",
        "\n",
        "    # Add summary\n",
        "    out.write_score(sum(total_reward_list), sum(time_list))\n",
        "    out.save()\n",
        "    print('Cumulated Total Reward: {}'.format(sum(total_reward_list)))\n",
        "    print('Total Run Time: {:.3f}'.format(sum(time_list)))\n",
        "\n",
        "if __name__ == \"__main__\":\n",
        "    parser = argparse.ArgumentParser(description='Deep Q Learning')\n",
        "    parser.add_argument('--seed', default=42, type=int,\n",
        "                        help='Random seed')\n",
        "    parser.add_argument('--game', default='flappy', type=str,\n",
        "                        help='{flappy}')\n",
        "    parser.add_argument('--tag', default=\"dqn\", type=str,\n",
        "                        help='name to save')\n",
        "    args = parser.parse_args()\n",
        "\n",
        "    test(args)"
      ],
      "metadata": {
        "id": "FTb8BqhoqlhS"
      },
      "execution_count": null,
      "outputs": []
    },
    {
      "cell_type": "code",
      "source": [
        ""
      ],
      "metadata": {
        "id": "eHhExncNqlc4"
      },
      "execution_count": null,
      "outputs": []
    }
  ]
}