{
  "cells": [
    {
      "cell_type": "markdown",
      "metadata": {
        "id": "view-in-github",
        "colab_type": "text"
      },
      "source": [
        "<a href=\"https://colab.research.google.com/github/sh3986/kaggle/blob/main/last_keras_resnet.ipynb\" target=\"_parent\"><img src=\"https://colab.research.google.com/assets/colab-badge.svg\" alt=\"Open In Colab\"/></a>"
      ]
    },
    {
      "cell_type": "code",
      "execution_count": 2,
      "metadata": {
        "colab": {
          "base_uri": "https://localhost:8080/"
        },
        "id": "_Epm51pVonvC",
        "outputId": "1dd876cb-ccad-4e9c-a26b-0c9edb9ff27c"
      },
      "outputs": [
        {
          "output_type": "stream",
          "name": "stdout",
          "text": [
            "Mounted at /content/drive\n"
          ]
        }
      ],
      "source": [
        "from google.colab import drive\n",
        "drive.mount('/content/drive')"
      ]
    },
    {
      "cell_type": "markdown",
      "metadata": {
        "id": "OwLZ_GHF7lWo"
      },
      "source": [
        "### Library"
      ]
    },
    {
      "cell_type": "code",
      "execution_count": 3,
      "metadata": {
        "colab": {
          "base_uri": "https://localhost:8080/",
          "height": 35
        },
        "id": "1oEeswCJ7iHa",
        "outputId": "c5f88862-42c4-4774-e833-c95235eb34bb"
      },
      "outputs": [
        {
          "output_type": "execute_result",
          "data": {
            "text/plain": [
              "'2.8.2'"
            ],
            "application/vnd.google.colaboratory.intrinsic+json": {
              "type": "string"
            }
          },
          "metadata": {},
          "execution_count": 3
        }
      ],
      "source": [
        "import numpy as np \n",
        "import pandas as pd\n",
        "from tqdm import tqdm\n",
        "import matplotlib.pyplot as plt\n",
        "import seaborn as sns\n",
        "import seaborn as sns\n",
        "import matplotlib.pyplot as plt\n",
        "sns.set_style('whitegrid')\n",
        "%matplotlib inline\n",
        "\n",
        "import warnings\n",
        "warnings.filterwarnings(\"ignore\")\n",
        "pd.options.display.float_format = \"{:.5f}\".format\n",
        "\n",
        "from sklearn.model_selection import train_test_split\n",
        "from sklearn.preprocessing import StandardScaler\n",
        "\n",
        "from sklearn.preprocessing import FunctionTransformer\n",
        "from sklearn.preprocessing import StandardScaler\n",
        "from sklearn.preprocessing import MinMaxScaler\n",
        "from sklearn.decomposition import PCA\n",
        "from sklearn.model_selection import train_test_split, cross_val_score, GridSearchCV\n",
        "from sklearn.metrics import mean_absolute_error\n",
        "from sklearn.pipeline import Pipeline\n",
        "\n",
        "import os\n",
        "from os import listdir\n",
        "from os.path import isfile, join\n",
        "import cv2\n",
        "from PIL import Image\n",
        "from sklearn.metrics import f1_score\n",
        "from sklearn.utils.class_weight import compute_class_weight\n",
        "\n",
        "import tensorflow as tf\n",
        "from tensorflow.keras.utils import to_categorical\n",
        "from tensorflow.keras import Sequential, Input\n",
        "from tensorflow.keras.layers import Conv2D, MaxPool2D, Dense, Flatten, Dropout\n",
        "from tensorflow.keras import optimizers\n",
        "tf.__version__"
      ]
    },
    {
      "cell_type": "code",
      "execution_count": 4,
      "metadata": {
        "colab": {
          "base_uri": "https://localhost:8080/"
        },
        "id": "RBbUWqE7KcMl",
        "outputId": "76c2c371-946e-49a4-b1e9-bd16bb33fc8f"
      },
      "outputs": [
        {
          "output_type": "stream",
          "name": "stdout",
          "text": [
            "TensoFlow Version:  2.8.2\n"
          ]
        }
      ],
      "source": [
        "# Visualization\n",
        "from tensorflow.keras.utils import plot_model\n",
        "\n",
        "# Splitting data\n",
        "from sklearn.model_selection import train_test_split\n",
        "\n",
        "# Metrics \n",
        "from sklearn.metrics import confusion_matrix, classification_report\n",
        "\n",
        "# Deep Learning\n",
        "import tensorflow as tf\n",
        "print('TensoFlow Version: ', tf.__version__)\n",
        "from tensorflow.keras.preprocessing.image import ImageDataGenerator\n",
        "\n",
        "from tensorflow.keras.models import Model\n",
        "from tensorflow.keras.layers import Dense, Flatten, GlobalAveragePooling2D, BatchNormalization, Dropout\n",
        "from tensorflow.keras.applications.resnet import ResNet50\n",
        "\n",
        "from tensorflow.keras.callbacks import ModelCheckpoint, EarlyStopping, ReduceLROnPlateau, CSVLogger\n",
        "\n",
        "import skimage.morphology as morp\n",
        "from skimage.filters import rank"
      ]
    },
    {
      "cell_type": "code",
      "execution_count": 5,
      "metadata": {
        "id": "I_cpXO5cCJcu"
      },
      "outputs": [],
      "source": [
        "data_path = \"/content/drive/MyDrive/Colab Notebooks/Kaggle/project_2_cnn\""
      ]
    },
    {
      "cell_type": "code",
      "execution_count": 6,
      "metadata": {
        "id": "LPGUIETvooIW"
      },
      "outputs": [],
      "source": [
        "import os\n",
        "os.chdir(data_path)"
      ]
    },
    {
      "cell_type": "code",
      "execution_count": 11,
      "metadata": {
        "id": "CVGpL_hcnT7q"
      },
      "outputs": [],
      "source": [
        "data = []\n",
        "labels = []\n",
        "\n",
        "height = 32\n",
        "width = 32\n",
        "channels = 3\n",
        "num_classes = 43"
      ]
    },
    {
      "cell_type": "code",
      "execution_count": null,
      "metadata": {
        "id": "by0z2qj0OlkI"
      },
      "outputs": [],
      "source": [
        "# for i in range(num_classes) :\n",
        "#     path = f'./data/Train/{i}/'\n",
        "#     Class = os.listdir(path)\n",
        "#     for a in Class:\n",
        "#         image = cv2.imread(path + a)\n",
        "#         image_from_array = Image.fromarray(image, 'RGB')\n",
        "#         size_image = image_from_array.resize((height, width))\n",
        "#         data.append(np.array(size_image))\n",
        "#         labels.append(i)\n",
        "\n",
        "# data = np.array(data)\n",
        "# labels = np.array(labels)\n",
        "\n",
        "# import pickle\n",
        "# with open(\"/content/drive/MyDrive/Colab Notebooks/Kaggle/project_2_cnn/data/train_data.pkl\",\"wb\") as f:\n",
        "#     pickle.dump(data, f)\n",
        "\n",
        "# with open(\"/content/drive/MyDrive/Colab Notebooks/Kaggle/project_2_cnn/data/train_label.pkl\",\"wb\") as f:\n",
        "#     pickle.dump(labels, f)"
      ]
    },
    {
      "cell_type": "markdown",
      "metadata": {
        "id": "KgHuB6EFCjRP"
      },
      "source": [
        "### 데이터 로드"
      ]
    },
    {
      "cell_type": "code",
      "execution_count": 12,
      "metadata": {
        "id": "oRgA3DEJ1y71"
      },
      "outputs": [],
      "source": [
        "import pickle\n",
        "with open(\"/content/drive/MyDrive/Colab Notebooks/Kaggle/project_2_cnn/data/train_data.pkl\",\"rb\") as f:\n",
        "    data = pickle.load(f)\n",
        "\n",
        "import pickle\n",
        "with open(\"/content/drive/MyDrive/Colab Notebooks/Kaggle/project_2_cnn/data/train_label.pkl\",\"rb\") as f:\n",
        "    labels = pickle.load(f)"
      ]
    },
    {
      "cell_type": "code",
      "execution_count": 13,
      "metadata": {
        "colab": {
          "base_uri": "https://localhost:8080/"
        },
        "id": "MWD24kst3CYV",
        "outputId": "cd86eb85-96ab-41e8-f5f7-4e318211f547"
      },
      "outputs": [
        {
          "output_type": "stream",
          "name": "stdout",
          "text": [
            "(26010, 32, 32, 3)\n",
            "(26010,)\n"
          ]
        }
      ],
      "source": [
        "print(data.shape)\n",
        "print(labels.shape)"
      ]
    },
    {
      "cell_type": "markdown",
      "metadata": {
        "id": "HiQ9q2yp4r7X"
      },
      "source": [
        "### 전처리"
      ]
    },
    {
      "cell_type": "code",
      "source": [
        "X = data\n",
        "y = tf.one_hot(labels, num_classes).numpy()"
      ],
      "metadata": {
        "id": "QoYY3f3hvpuO"
      },
      "execution_count": 15,
      "outputs": []
    },
    {
      "cell_type": "code",
      "execution_count": 16,
      "metadata": {
        "id": "48-8vvddKZ13",
        "colab": {
          "base_uri": "https://localhost:8080/"
        },
        "outputId": "55d1f163-5941-40de-f371-3b0d39b0d2fb"
      },
      "outputs": [
        {
          "output_type": "stream",
          "name": "stdout",
          "text": [
            "X_train.shape (18207, 32, 32, 3)\n",
            "X_valid.shape (7803, 32, 32, 3)\n",
            "y_train.shape (18207, 43)\n",
            "y_valid.shape (7803, 43)\n"
          ]
        }
      ],
      "source": [
        "X_train, X_val, y_train, y_val = train_test_split(X, y, test_size=0.3, random_state=42, shuffle=True)\n",
        "\n",
        "X_train = X_train/255 \n",
        "X_val = X_val/255\n",
        "\n",
        "print(\"X_train.shape\", X_train.shape)\n",
        "print(\"X_valid.shape\", X_val.shape)\n",
        "print(\"y_train.shape\", y_train.shape)\n",
        "print(\"y_valid.shape\", y_val.shape)"
      ]
    },
    {
      "cell_type": "code",
      "source": [
        "from tensorflow import keras\n",
        "model = keras.models.Sequential([    \n",
        "    keras.layers.Conv2D(filters=16, kernel_size=(3,3), activation='relu', input_shape=(height,width,channels)),\n",
        "    keras.layers.Conv2D(filters=32, kernel_size=(3,3), activation='relu'),\n",
        "    keras.layers.MaxPool2D(pool_size=(2, 2)),\n",
        "    keras.layers.BatchNormalization(axis=-1),\n",
        "\n",
        "    keras.layers.Conv2D(filters=64, kernel_size=(3,3), activation='relu'),\n",
        "    keras.layers.Conv2D(filters=128, kernel_size=(3,3), activation='relu'),\n",
        "    keras.layers.MaxPool2D(pool_size=(2, 2)),\n",
        "    keras.layers.BatchNormalization(axis=-1),\n",
        "\n",
        "    keras.layers.Flatten(),\n",
        "    keras.layers.Dense(512, activation='relu'),\n",
        "    keras.layers.BatchNormalization(),\n",
        "    keras.layers.Dropout(rate=0.5),\n",
        "\n",
        "    keras.layers.Dense(43, activation='softmax')\n",
        "])"
      ],
      "metadata": {
        "id": "waPSO4z_vxPw"
      },
      "execution_count": 19,
      "outputs": []
    },
    {
      "cell_type": "code",
      "source": [
        "from tensorflow.keras.optimizers import Adam\n",
        "\n",
        "lr = 0.001\n",
        "epochs = 30\n",
        "opt = Adam(lr=lr, decay=lr / (epochs * 0.5))\n",
        "model.compile(loss='categorical_crossentropy', optimizer=opt, metrics=['accuracy'])"
      ],
      "metadata": {
        "id": "G3Vb8mH2v_77"
      },
      "execution_count": 21,
      "outputs": []
    },
    {
      "cell_type": "code",
      "source": [
        "model_check = ModelCheckpoint('./workplace/model/custom_model.h5', monitor='val_accuracy', verbose=0, save_best_only=True, mode='max')\n",
        "early = EarlyStopping(monitor='val_accuracy', min_delta=0, patience=10, verbose=0, mode='max', restore_best_weights=True)\n",
        "reduce_lr = ReduceLROnPlateau(monitor='val_loss', factor=0.2, patience=10, min_lr=0.001)"
      ],
      "metadata": {
        "id": "weLVjpr2wqVD"
      },
      "execution_count": null,
      "outputs": []
    },
    {
      "cell_type": "code",
      "source": [
        "from tensorflow.keras.preprocessing.image import ImageDataGenerator\n",
        "\n",
        "aug = ImageDataGenerator(\n",
        "    rotation_range=10,\n",
        "    zoom_range=0.15,\n",
        "    width_shift_range=0.1,\n",
        "    height_shift_range=0.1,\n",
        "    shear_range=0.15,\n",
        "    horizontal_flip=False,\n",
        "    vertical_flip=False,\n",
        "    fill_mode=\"nearest\"\n",
        ")\n",
        "\n",
        "history = model.fit(\n",
        "    aug.flow(X_train, y_train, batch_size=32), \n",
        "    epochs=epochs, \n",
        "    validation_data=(X_val, y_val),\n",
        "    callbacks = [model_check, early, reduce_lr]\n",
        ")"
      ],
      "metadata": {
        "colab": {
          "base_uri": "https://localhost:8080/"
        },
        "id": "_DhaP49DwJ9P",
        "outputId": "253527ab-fb2b-4483-d342-bdc2a78d78a7"
      },
      "execution_count": 22,
      "outputs": [
        {
          "output_type": "stream",
          "name": "stdout",
          "text": [
            "Epoch 1/30\n",
            "569/569 [==============================] - 22s 17ms/step - loss: 1.2255 - accuracy: 0.6795 - val_loss: 1.0585 - val_accuracy: 0.6728\n",
            "Epoch 2/30\n",
            "569/569 [==============================] - 9s 16ms/step - loss: 0.2146 - accuracy: 0.9324 - val_loss: 0.0437 - val_accuracy: 0.9863\n",
            "Epoch 3/30\n",
            "569/569 [==============================] - 9s 16ms/step - loss: 0.1080 - accuracy: 0.9671 - val_loss: 0.0428 - val_accuracy: 0.9883\n",
            "Epoch 4/30\n",
            "569/569 [==============================] - 9s 16ms/step - loss: 0.0819 - accuracy: 0.9747 - val_loss: 0.0306 - val_accuracy: 0.9897\n",
            "Epoch 5/30\n",
            "569/569 [==============================] - 9s 16ms/step - loss: 0.0644 - accuracy: 0.9793 - val_loss: 0.0394 - val_accuracy: 0.9887\n",
            "Epoch 6/30\n",
            "569/569 [==============================] - 9s 16ms/step - loss: 0.0616 - accuracy: 0.9803 - val_loss: 0.0269 - val_accuracy: 0.9910\n",
            "Epoch 7/30\n",
            "569/569 [==============================] - 9s 16ms/step - loss: 0.0523 - accuracy: 0.9832 - val_loss: 0.0211 - val_accuracy: 0.9933\n",
            "Epoch 8/30\n",
            "569/569 [==============================] - 9s 16ms/step - loss: 0.0504 - accuracy: 0.9857 - val_loss: 0.0114 - val_accuracy: 0.9967\n",
            "Epoch 9/30\n",
            "569/569 [==============================] - 9s 16ms/step - loss: 0.0433 - accuracy: 0.9857 - val_loss: 0.0183 - val_accuracy: 0.9940\n",
            "Epoch 10/30\n",
            "569/569 [==============================] - 9s 16ms/step - loss: 0.0418 - accuracy: 0.9871 - val_loss: 0.0088 - val_accuracy: 0.9978\n",
            "Epoch 11/30\n",
            "569/569 [==============================] - 10s 18ms/step - loss: 0.0337 - accuracy: 0.9895 - val_loss: 0.0052 - val_accuracy: 0.9991\n",
            "Epoch 12/30\n",
            "569/569 [==============================] - 9s 17ms/step - loss: 0.0355 - accuracy: 0.9889 - val_loss: 0.0046 - val_accuracy: 0.9988\n",
            "Epoch 13/30\n",
            "569/569 [==============================] - 10s 18ms/step - loss: 0.0315 - accuracy: 0.9899 - val_loss: 0.0480 - val_accuracy: 0.9863\n",
            "Epoch 14/30\n",
            "569/569 [==============================] - 10s 17ms/step - loss: 0.0270 - accuracy: 0.9918 - val_loss: 0.0059 - val_accuracy: 0.9986\n",
            "Epoch 15/30\n",
            "569/569 [==============================] - 9s 16ms/step - loss: 0.0305 - accuracy: 0.9902 - val_loss: 0.0056 - val_accuracy: 0.9985\n",
            "Epoch 16/30\n",
            "569/569 [==============================] - 10s 17ms/step - loss: 0.0229 - accuracy: 0.9927 - val_loss: 0.0044 - val_accuracy: 0.9988\n",
            "Epoch 17/30\n",
            "569/569 [==============================] - 10s 17ms/step - loss: 0.0262 - accuracy: 0.9916 - val_loss: 0.0035 - val_accuracy: 0.9990\n",
            "Epoch 18/30\n",
            "569/569 [==============================] - 9s 16ms/step - loss: 0.0177 - accuracy: 0.9938 - val_loss: 0.0060 - val_accuracy: 0.9977\n",
            "Epoch 19/30\n",
            "569/569 [==============================] - 9s 16ms/step - loss: 0.0235 - accuracy: 0.9931 - val_loss: 0.0095 - val_accuracy: 0.9972\n",
            "Epoch 20/30\n",
            "569/569 [==============================] - 10s 18ms/step - loss: 0.0158 - accuracy: 0.9949 - val_loss: 0.0037 - val_accuracy: 0.9987\n",
            "Epoch 21/30\n",
            "569/569 [==============================] - 10s 18ms/step - loss: 0.0197 - accuracy: 0.9938 - val_loss: 0.0045 - val_accuracy: 0.9982\n",
            "Epoch 22/30\n",
            "569/569 [==============================] - 10s 18ms/step - loss: 0.0156 - accuracy: 0.9947 - val_loss: 0.0135 - val_accuracy: 0.9964\n",
            "Epoch 23/30\n",
            "569/569 [==============================] - 9s 17ms/step - loss: 0.0164 - accuracy: 0.9951 - val_loss: 0.0028 - val_accuracy: 0.9992\n",
            "Epoch 24/30\n",
            "569/569 [==============================] - 9s 16ms/step - loss: 0.0125 - accuracy: 0.9960 - val_loss: 0.0102 - val_accuracy: 0.9974\n",
            "Epoch 25/30\n",
            "569/569 [==============================] - 9s 16ms/step - loss: 0.0136 - accuracy: 0.9953 - val_loss: 0.0147 - val_accuracy: 0.9950\n",
            "Epoch 26/30\n",
            "569/569 [==============================] - 9s 16ms/step - loss: 0.0131 - accuracy: 0.9960 - val_loss: 0.0056 - val_accuracy: 0.9990\n",
            "Epoch 27/30\n",
            "569/569 [==============================] - 9s 16ms/step - loss: 0.0100 - accuracy: 0.9973 - val_loss: 0.0043 - val_accuracy: 0.9991\n",
            "Epoch 28/30\n",
            "569/569 [==============================] - 9s 16ms/step - loss: 0.0177 - accuracy: 0.9947 - val_loss: 0.0032 - val_accuracy: 0.9986\n",
            "Epoch 29/30\n",
            "569/569 [==============================] - 9s 16ms/step - loss: 0.0126 - accuracy: 0.9960 - val_loss: 0.0020 - val_accuracy: 0.9992\n",
            "Epoch 30/30\n",
            "569/569 [==============================] - 9s 15ms/step - loss: 0.0109 - accuracy: 0.9963 - val_loss: 0.0039 - val_accuracy: 0.9988\n"
          ]
        }
      ]
    },
    {
      "cell_type": "markdown",
      "metadata": {
        "id": "Xu-ZNgAdN88k"
      },
      "source": [
        "### 모델 평가"
      ]
    },
    {
      "cell_type": "code",
      "execution_count": 23,
      "metadata": {
        "id": "4SfVSjuKWcnU"
      },
      "outputs": [],
      "source": [
        "from tensorflow import keras \n",
        "from sklearn.model_selection import StratifiedKFold\n",
        "\n",
        "# model_path = './workplace/model/resnet50_v2.h5'\n",
        "# model = keras.models.load_model(model_path)\n",
        "# preprocessing = None\n",
        "\n",
        "cv = StratifiedKFold(n_splits=5, shuffle=True, random_state=42)\n",
        "macro_list = []\n",
        "for train_idxs, test_idxs in cv.split(X, labels):\n",
        "    X_train, X_test = X[train_idxs], X[test_idxs]\n",
        "    y_train, y_test = y[train_idxs], y[test_idxs]\n",
        "\n",
        "    X_test = X_test / 255.0\n",
        "\n",
        "    valid_datagen = ImageDataGenerator()\n",
        "    valid_generator = valid_datagen.flow(\n",
        "        X_test, y_test,\n",
        "        batch_size = 32,\n",
        "        shuffle=False\n",
        "    )\n",
        "\n",
        "    valid_generator.reset()\n",
        "    y_pred = model.predict_generator(valid_generator)\n",
        "    y_pred = tf.argmax(y_pred, axis=1).numpy()\n",
        "\n",
        "    report = classification_report(np.argmax(y_test, axis=1), y_pred, output_dict=True)\n",
        "    df = pd.DataFrame(report).transpose()\n",
        "    f1 = df.loc['macro avg']['f1-score']\n",
        "    macro_list.append(f1)"
      ]
    },
    {
      "cell_type": "code",
      "source": [
        "print([round(x, 4) for x in macro_list])\n",
        "print('f1 avg : ', np.mean(macro_list))"
      ],
      "metadata": {
        "colab": {
          "base_uri": "https://localhost:8080/"
        },
        "id": "edaJKAF8AwYt",
        "outputId": "25f048d6-9b8f-4533-cae8-49ad2cb72ae6"
      },
      "execution_count": 24,
      "outputs": [
        {
          "output_type": "stream",
          "name": "stdout",
          "text": [
            "[0.9993, 0.9999, 0.9999, 0.9997, 0.9999]\n",
            "f1 avg :  0.9997516408654435\n"
          ]
        }
      ]
    },
    {
      "cell_type": "markdown",
      "metadata": {
        "id": "l9Pw_Y-DCo2_"
      },
      "source": [
        "### 모델 테스트"
      ]
    },
    {
      "cell_type": "code",
      "execution_count": null,
      "metadata": {
        "id": "4OosqrAAIhwZ"
      },
      "outputs": [],
      "source": [
        "# from tensorflow import keras \n",
        "# model = keras.models.load_model(model_name)"
      ]
    },
    {
      "cell_type": "code",
      "execution_count": null,
      "metadata": {
        "id": "BSKqAB1l96m_"
      },
      "outputs": [],
      "source": [
        "# test_data = []\n",
        "# file_name = []\n",
        "# path = f'./data/Test/'\n",
        "# Class = os.listdir(path)\n",
        "# for a in Class:\n",
        "#     image = cv2.imread(path + a)\n",
        "#     image = img_contrast(image)\n",
        "#     image_from_array = Image.fromarray(image, 'RGB')\n",
        "#     size_image = image_from_array.resize((height, width))\n",
        "#     test_data.append(np.array(size_image))\n",
        "#     file_name.append(a)\n",
        "\n",
        "# test_data = np.array(test_data)\n",
        "# file_name = np.array(file_name)\n",
        "\n",
        "# import pickle \n",
        "\n",
        "# with open('./data/test_data_contrast.pkl', 'wb') as f:\n",
        "#     pickle.dump(test_data, f)\n",
        "\n",
        "# with open('./data/file_name_contrast.pkl', 'wb') as f:\n",
        "#     pickle.dump(file_name, f)"
      ]
    },
    {
      "cell_type": "code",
      "execution_count": 25,
      "metadata": {
        "id": "6fPIaScD-lXA"
      },
      "outputs": [],
      "source": [
        "with open('./data/test_data.pkl', 'rb') as f:\n",
        "    test_data = pickle.load(f)\n",
        "\n",
        "with open('./data/file_name.pkl', 'rb') as f:\n",
        "    file_name = pickle.load(f)"
      ]
    },
    {
      "cell_type": "code",
      "execution_count": 26,
      "metadata": {
        "colab": {
          "base_uri": "https://localhost:8080/"
        },
        "id": "deBX_RXq-vve",
        "outputId": "ed2197ac-927a-4079-db5c-97820d4ff430"
      },
      "outputs": [
        {
          "output_type": "execute_result",
          "data": {
            "text/plain": [
              "(8670, 32, 32, 3)"
            ]
          },
          "metadata": {},
          "execution_count": 26
        }
      ],
      "source": [
        "test_data.shape"
      ]
    },
    {
      "cell_type": "code",
      "source": [
        "test_data = test_data / 255"
      ],
      "metadata": {
        "id": "Y_lJfP_txdhW"
      },
      "execution_count": 27,
      "outputs": []
    },
    {
      "cell_type": "code",
      "execution_count": 28,
      "metadata": {
        "id": "Y_8VYcygWag5"
      },
      "outputs": [],
      "source": [
        "test_datagen = ImageDataGenerator()\n",
        "test_generator = test_datagen.flow(\n",
        "    test_data,\n",
        "    batch_size = 32,\n",
        "    shuffle=False\n",
        ") "
      ]
    },
    {
      "cell_type": "code",
      "execution_count": 29,
      "metadata": {
        "id": "lySHvLr5WzKi"
      },
      "outputs": [],
      "source": [
        "test_generator.reset()\n",
        "test_label = model.predict_generator(test_generator)\n",
        "test_label = tf.argmax(test_label, axis=1).numpy()"
      ]
    },
    {
      "cell_type": "code",
      "source": [
        "f, ax = plt.subplots(figsize=(20, 10))\n",
        "ax = sns.countplot(test_label)\n",
        "\n",
        "for p, label in zip(ax.patches, np.bincount(test_label)):\n",
        "    ax.annotate(label, (p.get_x()+0.175, p.get_height()+0.15))"
      ],
      "metadata": {
        "colab": {
          "base_uri": "https://localhost:8080/",
          "height": 592
        },
        "id": "dUHK3R2fxkYM",
        "outputId": "e8e39199-86fb-4bd6-92cc-75341f2911d2"
      },
      "execution_count": 30,
      "outputs": [
        {
          "output_type": "display_data",
          "data": {
            "text/plain": [
              "<Figure size 1440x720 with 1 Axes>"
            ],
            "image/png": "[encoded data removed]"
          },
          "metadata": {
            "needs_background": "light"
          }
        }
      ]
    },
    {
      "cell_type": "code",
      "source": [
        "csv_data = pd.DataFrame(np.concatenate((file_name.reshape(-1, 1), test_label.reshape(-1,1)), axis=1))\n",
        "csv_data = csv_data.sort_values(by=[0])\n",
        "csv_data.head()"
      ],
      "metadata": {
        "colab": {
          "base_uri": "https://localhost:8080/",
          "height": 206
        },
        "id": "Utu1reEMxoAu",
        "outputId": "a3a5f627-0cba-42aa-82a6-bdb9a2b02d0c"
      },
      "execution_count": 31,
      "outputs": [
        {
          "output_type": "execute_result",
          "data": {
            "text/plain": [
              "              0   1\n",
              "279   00000.png  16\n",
              "8119  00001.png   1\n",
              "3628  00002.png  38\n",
              "1565  00003.png  33\n",
              "5360  00004.png  11"
            ],
            "text/html": [
              "\n",
              "  <div id=\"df-84b98982-3f95-40a9-b208-769e889390a0\">\n",
              "    <div class=\"colab-df-container\">\n",
              "      <div>\n",
              "<style scoped>\n",
              "    .dataframe tbody tr th:only-of-type {\n",
              "        vertical-align: middle;\n",
              "    }\n",
              "\n",
              "    .dataframe tbody tr th {\n",
              "        vertical-align: top;\n",
              "    }\n",
              "\n",
              "    .dataframe thead th {\n",
              "        text-align: right;\n",
              "    }\n",
              "</style>\n",
              "<table border=\"1\" class=\"dataframe\">\n",
              "  <thead>\n",
              "    <tr style=\"text-align: right;\">\n",
              "      <th></th>\n",
              "      <th>0</th>\n",
              "      <th>1</th>\n",
              "    </tr>\n",
              "  </thead>\n",
              "  <tbody>\n",
              "    <tr>\n",
              "      <th>279</th>\n",
              "      <td>00000.png</td>\n",
              "      <td>16</td>\n",
              "    </tr>\n",
              "    <tr>\n",
              "      <th>8119</th>\n",
              "      <td>00001.png</td>\n",
              "      <td>1</td>\n",
              "    </tr>\n",
              "    <tr>\n",
              "      <th>3628</th>\n",
              "      <td>00002.png</td>\n",
              "      <td>38</td>\n",
              "    </tr>\n",
              "    <tr>\n",
              "      <th>1565</th>\n",
              "      <td>00003.png</td>\n",
              "      <td>33</td>\n",
              "    </tr>\n",
              "    <tr>\n",
              "      <th>5360</th>\n",
              "      <td>00004.png</td>\n",
              "      <td>11</td>\n",
              "    </tr>\n",
              "  </tbody>\n",
              "</table>\n",
              "</div>\n",
              "      <button class=\"colab-df-convert\" onclick=\"convertToInteractive('df-84b98982-3f95-40a9-b208-769e889390a0')\"\n",
              "              title=\"Convert this dataframe to an interactive table.\"\n",
              "              style=\"display:none;\">\n",
              "        \n",
              "  <svg xmlns=\"http://www.w3.org/2000/svg\" height=\"24px\"viewBox=\"0 0 24 24\"\n",
              "       width=\"24px\">\n",
              "    <path d=\"M0 0h24v24H0V0z\" fill=\"none\"/>\n",
              "    <path d=\"M18.56 5.44l.94 2.06.94-2.06 2.06-.94-2.06-.94-.94-2.06-.94 2.06-2.06.94zm-11 1L8.5 8.5l.94-2.06 2.06-.94-2.06-.94L8.5 2.5l-.94 2.06-2.06.94zm10 10l.94 2.06.94-2.06 2.06-.94-2.06-.94-.94-2.06-.94 2.06-2.06.94z\"/><path d=\"M17.41 7.96l-1.37-1.37c-.4-.4-.92-.59-1.43-.59-.52 0-1.04.2-1.43.59L10.3 9.45l-7.72 7.72c-.78.78-.78 2.05 0 2.83L4 21.41c.39.39.9.59 1.41.59.51 0 1.02-.2 1.41-.59l7.78-7.78 2.81-2.81c.8-.78.8-2.07 0-2.86zM5.41 20L4 18.59l7.72-7.72 1.47 1.35L5.41 20z\"/>\n",
              "  </svg>\n",
              "      </button>\n",
              "      \n",
              "  <style>\n",
              "    .colab-df-container {\n",
              "      display:flex;\n",
              "      flex-wrap:wrap;\n",
              "      gap: 12px;\n",
              "    }\n",
              "\n",
              "    .colab-df-convert {\n",
              "      background-color: #E8F0FE;\n",
              "      border: none;\n",
              "      border-radius: 50%;\n",
              "      cursor: pointer;\n",
              "      display: none;\n",
              "      fill: #1967D2;\n",
              "      height: 32px;\n",
              "      padding: 0 0 0 0;\n",
              "      width: 32px;\n",
              "    }\n",
              "\n",
              "    .colab-df-convert:hover {\n",
              "      background-color: #E2EBFA;\n",
              "      box-shadow: 0px 1px 2px rgba(60, 64, 67, 0.3), 0px 1px 3px 1px rgba(60, 64, 67, 0.15);\n",
              "      fill: #174EA6;\n",
              "    }\n",
              "\n",
              "    [theme=dark] .colab-df-convert {\n",
              "      background-color: #3B4455;\n",
              "      fill: #D2E3FC;\n",
              "    }\n",
              "\n",
              "    [theme=dark] .colab-df-convert:hover {\n",
              "      background-color: #434B5C;\n",
              "      box-shadow: 0px 1px 3px 1px rgba(0, 0, 0, 0.15);\n",
              "      filter: drop-shadow(0px 1px 2px rgba(0, 0, 0, 0.3));\n",
              "      fill: #FFFFFF;\n",
              "    }\n",
              "  </style>\n",
              "\n",
              "      <script>\n",
              "        const buttonEl =\n",
              "          document.querySelector('#df-84b98982-3f95-40a9-b208-769e889390a0 button.colab-df-convert');\n",
              "        buttonEl.style.display =\n",
              "          google.colab.kernel.accessAllowed ? 'block' : 'none';\n",
              "\n",
              "        async function convertToInteractive(key) {\n",
              "          const element = document.querySelector('#df-84b98982-3f95-40a9-b208-769e889390a0');\n",
              "          const dataTable =\n",
              "            await google.colab.kernel.invokeFunction('convertToInteractive',\n",
              "                                                     [key], {});\n",
              "          if (!dataTable) return;\n",
              "\n",
              "          const docLinkHtml = 'Like what you see? Visit the ' +\n",
              "            '<a target=\"_blank\" href=https://colab.research.google.com/notebooks/data_table.ipynb>data table notebook</a>'\n",
              "            + ' to learn more about interactive tables.';\n",
              "          element.innerHTML = '';\n",
              "          dataTable['output_type'] = 'display_data';\n",
              "          await google.colab.output.renderOutput(dataTable, element);\n",
              "          const docLink = document.createElement('div');\n",
              "          docLink.innerHTML = docLinkHtml;\n",
              "          element.appendChild(docLink);\n",
              "        }\n",
              "      </script>\n",
              "    </div>\n",
              "  </div>\n",
              "  "
            ]
          },
          "metadata": {},
          "execution_count": 31
        }
      ]
    },
    {
      "cell_type": "code",
      "source": [
        "csv_data.to_csv(\"final_predict_v3.csv\", header=False, index=False)\n",
        "from google.colab import files\n",
        "files.download(\"final_predict_v3.csv\")"
      ],
      "metadata": {
        "colab": {
          "base_uri": "https://localhost:8080/",
          "height": 17
        },
        "id": "BnSp8QdqxpuT",
        "outputId": "61d05d4b-e9e6-4587-9ce2-06842bf0fbbe"
      },
      "execution_count": 32,
      "outputs": [
        {
          "output_type": "display_data",
          "data": {
            "text/plain": [
              "<IPython.core.display.Javascript object>"
            ],
            "application/javascript": [
              "\n",
              "    async function download(id, filename, size) {\n",
              "      if (!google.colab.kernel.accessAllowed) {\n",
              "        return;\n",
              "      }\n",
              "      const div = document.createElement('div');\n",
              "      const label = document.createElement('label');\n",
              "      label.textContent = `Downloading \"${filename}\": `;\n",
              "      div.appendChild(label);\n",
              "      const progress = document.createElement('progress');\n",
              "      progress.max = size;\n",
              "      div.appendChild(progress);\n",
              "      document.body.appendChild(div);\n",
              "\n",
              "      const buffers = [];\n",
              "      let downloaded = 0;\n",
              "\n",
              "      const channel = await google.colab.kernel.comms.open(id);\n",
              "      // Send a message to notify the kernel that we're ready.\n",
              "      channel.send({})\n",
              "\n",
              "      for await (const message of channel.messages) {\n",
              "        // Send a message to notify the kernel that we're ready.\n",
              "        channel.send({})\n",
              "        if (message.buffers) {\n",
              "          for (const buffer of message.buffers) {\n",
              "            buffers.push(buffer);\n",
              "            downloaded += buffer.byteLength;\n",
              "            progress.value = downloaded;\n",
              "          }\n",
              "        }\n",
              "      }\n",
              "      const blob = new Blob(buffers, {type: 'application/binary'});\n",
              "      const a = document.createElement('a');\n",
              "      a.href = window.URL.createObjectURL(blob);\n",
              "      a.download = filename;\n",
              "      div.appendChild(a);\n",
              "      a.click();\n",
              "      div.remove();\n",
              "    }\n",
              "  "
            ]
          },
          "metadata": {}
        },
        {
          "output_type": "display_data",
          "data": {
            "text/plain": [
              "<IPython.core.display.Javascript object>"
            ],
            "application/javascript": [
              "download(\"download_214282b4-25a3-4750-bdfa-aa676c36b788\", \"final_predict_v3.csv\", 109225)"
            ]
          },
          "metadata": {}
        }
      ]
    },
    {
      "cell_type": "markdown",
      "source": [
        "### 디버그"
      ],
      "metadata": {
        "id": "1Vv9ZhiFBhz1"
      }
    },
    {
      "cell_type": "code",
      "execution_count": 33,
      "metadata": {
        "id": "8MZtduBoKzHU"
      },
      "outputs": [],
      "source": [
        "img_data = [np.array(x) for x in test_data]\n",
        "img_df = pd.DataFrame({'img':img_data, 'file_name':file_name, 'label':test_label})\n",
        "debug_data = img_df.sort_values(by=['file_name'])\n",
        "\n",
        "def debug_image(debug_data, category, next_file=None):\n",
        "    filter_data = debug_data[debug_data['label']==category].reset_index()\n",
        "    if next_file is not None:\n",
        "        filter_data = filter_data[filter_data['file_name'] > next_file]\n",
        "\n",
        "    fig, axes = plt.subplots(nrows = 10, ncols = 10, figsize=(18, 23))\n",
        "    for i, ax in enumerate(axes.flat):\n",
        "        record = filter_data.iloc[i]\n",
        "        img = record['img']\n",
        "        file_name = record['file_name']\n",
        "        ax.imshow(img)\n",
        "        ax.set_title(file_name, fontsize=14)\n",
        "        ax.set_xticks([])\n",
        "        ax.set_yticks([])\n",
        "    plt.tight_layout()\n",
        "    plt.show() "
      ]
    },
    {
      "cell_type": "code",
      "execution_count": null,
      "metadata": {
        "colab": {
          "base_uri": "https://localhost:8080/",
          "height": 327
        },
        "id": "dbqgG-7UKobX",
        "outputId": "0b29df2b-a2c6-442f-90e9-33f4f5291f84"
      },
      "outputs": [
        {
          "output_type": "error",
          "ename": "IndexError",
          "evalue": "ignored",
          "traceback": [
            "\u001b[0;31m---------------------------------------------------------------------------\u001b[0m",
            "\u001b[0;31mIndexError\u001b[0m                                Traceback (most recent call last)",
            "\u001b[0;32m<ipython-input-36-8961e5ab5abb>\u001b[0m in \u001b[0;36m<module>\u001b[0;34m()\u001b[0m\n\u001b[0;32m----> 1\u001b[0;31m \u001b[0mdebug_image\u001b[0m\u001b[0;34m(\u001b[0m\u001b[0mdebug_data\u001b[0m\u001b[0;34m,\u001b[0m \u001b[0;36m24\u001b[0m\u001b[0;34m)\u001b[0m\u001b[0;34m\u001b[0m\u001b[0;34m\u001b[0m\u001b[0m\n\u001b[0m",
            "\u001b[0;32m<ipython-input-33-4e5a35b5bf55>\u001b[0m in \u001b[0;36mdebug_image\u001b[0;34m(debug_data, category, next_file)\u001b[0m\n\u001b[1;32m     10\u001b[0m     \u001b[0mfig\u001b[0m\u001b[0;34m,\u001b[0m \u001b[0maxes\u001b[0m \u001b[0;34m=\u001b[0m \u001b[0mplt\u001b[0m\u001b[0;34m.\u001b[0m\u001b[0msubplots\u001b[0m\u001b[0;34m(\u001b[0m\u001b[0mnrows\u001b[0m \u001b[0;34m=\u001b[0m \u001b[0;36m10\u001b[0m\u001b[0;34m,\u001b[0m \u001b[0mncols\u001b[0m \u001b[0;34m=\u001b[0m \u001b[0;36m10\u001b[0m\u001b[0;34m,\u001b[0m \u001b[0mfigsize\u001b[0m\u001b[0;34m=\u001b[0m\u001b[0;34m(\u001b[0m\u001b[0;36m18\u001b[0m\u001b[0;34m,\u001b[0m \u001b[0;36m23\u001b[0m\u001b[0;34m)\u001b[0m\u001b[0;34m)\u001b[0m\u001b[0;34m\u001b[0m\u001b[0;34m\u001b[0m\u001b[0m\n\u001b[1;32m     11\u001b[0m     \u001b[0;32mfor\u001b[0m \u001b[0mi\u001b[0m\u001b[0;34m,\u001b[0m \u001b[0max\u001b[0m \u001b[0;32min\u001b[0m \u001b[0menumerate\u001b[0m\u001b[0;34m(\u001b[0m\u001b[0maxes\u001b[0m\u001b[0;34m.\u001b[0m\u001b[0mflat\u001b[0m\u001b[0;34m)\u001b[0m\u001b[0;34m:\u001b[0m\u001b[0;34m\u001b[0m\u001b[0;34m\u001b[0m\u001b[0m\n\u001b[0;32m---> 12\u001b[0;31m         \u001b[0mrecord\u001b[0m \u001b[0;34m=\u001b[0m \u001b[0mfilter_data\u001b[0m\u001b[0;34m.\u001b[0m\u001b[0miloc\u001b[0m\u001b[0;34m[\u001b[0m\u001b[0mi\u001b[0m\u001b[0;34m]\u001b[0m\u001b[0;34m\u001b[0m\u001b[0;34m\u001b[0m\u001b[0m\n\u001b[0m\u001b[1;32m     13\u001b[0m         \u001b[0mimg\u001b[0m \u001b[0;34m=\u001b[0m \u001b[0mrecord\u001b[0m\u001b[0;34m[\u001b[0m\u001b[0;34m'img'\u001b[0m\u001b[0;34m]\u001b[0m\u001b[0;34m\u001b[0m\u001b[0;34m\u001b[0m\u001b[0m\n\u001b[1;32m     14\u001b[0m         \u001b[0mfile_name\u001b[0m \u001b[0;34m=\u001b[0m \u001b[0mrecord\u001b[0m\u001b[0;34m[\u001b[0m\u001b[0;34m'file_name'\u001b[0m\u001b[0;34m]\u001b[0m\u001b[0;34m\u001b[0m\u001b[0;34m\u001b[0m\u001b[0m\n",
            "\u001b[0;32m/usr/local/lib/python3.7/dist-packages/pandas/core/indexing.py\u001b[0m in \u001b[0;36m__getitem__\u001b[0;34m(self, key)\u001b[0m\n\u001b[1;32m    929\u001b[0m \u001b[0;34m\u001b[0m\u001b[0m\n\u001b[1;32m    930\u001b[0m             \u001b[0mmaybe_callable\u001b[0m \u001b[0;34m=\u001b[0m \u001b[0mcom\u001b[0m\u001b[0;34m.\u001b[0m\u001b[0mapply_if_callable\u001b[0m\u001b[0;34m(\u001b[0m\u001b[0mkey\u001b[0m\u001b[0;34m,\u001b[0m \u001b[0mself\u001b[0m\u001b[0;34m.\u001b[0m\u001b[0mobj\u001b[0m\u001b[0;34m)\u001b[0m\u001b[0;34m\u001b[0m\u001b[0;34m\u001b[0m\u001b[0m\n\u001b[0;32m--> 931\u001b[0;31m             \u001b[0;32mreturn\u001b[0m \u001b[0mself\u001b[0m\u001b[0;34m.\u001b[0m\u001b[0m_getitem_axis\u001b[0m\u001b[0;34m(\u001b[0m\u001b[0mmaybe_callable\u001b[0m\u001b[0;34m,\u001b[0m \u001b[0maxis\u001b[0m\u001b[0;34m=\u001b[0m\u001b[0maxis\u001b[0m\u001b[0;34m)\u001b[0m\u001b[0;34m\u001b[0m\u001b[0;34m\u001b[0m\u001b[0m\n\u001b[0m\u001b[1;32m    932\u001b[0m \u001b[0;34m\u001b[0m\u001b[0m\n\u001b[1;32m    933\u001b[0m     \u001b[0;32mdef\u001b[0m \u001b[0m_is_scalar_access\u001b[0m\u001b[0;34m(\u001b[0m\u001b[0mself\u001b[0m\u001b[0;34m,\u001b[0m \u001b[0mkey\u001b[0m\u001b[0;34m:\u001b[0m \u001b[0mtuple\u001b[0m\u001b[0;34m)\u001b[0m\u001b[0;34m:\u001b[0m\u001b[0;34m\u001b[0m\u001b[0;34m\u001b[0m\u001b[0m\n",
            "\u001b[0;32m/usr/local/lib/python3.7/dist-packages/pandas/core/indexing.py\u001b[0m in \u001b[0;36m_getitem_axis\u001b[0;34m(self, key, axis)\u001b[0m\n\u001b[1;32m   1564\u001b[0m \u001b[0;34m\u001b[0m\u001b[0m\n\u001b[1;32m   1565\u001b[0m             \u001b[0;31m# validate the location\u001b[0m\u001b[0;34m\u001b[0m\u001b[0;34m\u001b[0m\u001b[0;34m\u001b[0m\u001b[0m\n\u001b[0;32m-> 1566\u001b[0;31m             \u001b[0mself\u001b[0m\u001b[0;34m.\u001b[0m\u001b[0m_validate_integer\u001b[0m\u001b[0;34m(\u001b[0m\u001b[0mkey\u001b[0m\u001b[0;34m,\u001b[0m \u001b[0maxis\u001b[0m\u001b[0;34m)\u001b[0m\u001b[0;34m\u001b[0m\u001b[0;34m\u001b[0m\u001b[0m\n\u001b[0m\u001b[1;32m   1567\u001b[0m \u001b[0;34m\u001b[0m\u001b[0m\n\u001b[1;32m   1568\u001b[0m             \u001b[0;32mreturn\u001b[0m \u001b[0mself\u001b[0m\u001b[0;34m.\u001b[0m\u001b[0mobj\u001b[0m\u001b[0;34m.\u001b[0m\u001b[0m_ixs\u001b[0m\u001b[0;34m(\u001b[0m\u001b[0mkey\u001b[0m\u001b[0;34m,\u001b[0m \u001b[0maxis\u001b[0m\u001b[0;34m=\u001b[0m\u001b[0maxis\u001b[0m\u001b[0;34m)\u001b[0m\u001b[0;34m\u001b[0m\u001b[0;34m\u001b[0m\u001b[0m\n",
            "\u001b[0;32m/usr/local/lib/python3.7/dist-packages/pandas/core/indexing.py\u001b[0m in \u001b[0;36m_validate_integer\u001b[0;34m(self, key, axis)\u001b[0m\n\u001b[1;32m   1498\u001b[0m         \u001b[0mlen_axis\u001b[0m \u001b[0;34m=\u001b[0m \u001b[0mlen\u001b[0m\u001b[0;34m(\u001b[0m\u001b[0mself\u001b[0m\u001b[0;34m.\u001b[0m\u001b[0mobj\u001b[0m\u001b[0;34m.\u001b[0m\u001b[0m_get_axis\u001b[0m\u001b[0;34m(\u001b[0m\u001b[0maxis\u001b[0m\u001b[0;34m)\u001b[0m\u001b[0;34m)\u001b[0m\u001b[0;34m\u001b[0m\u001b[0;34m\u001b[0m\u001b[0m\n\u001b[1;32m   1499\u001b[0m         \u001b[0;32mif\u001b[0m \u001b[0mkey\u001b[0m \u001b[0;34m>=\u001b[0m \u001b[0mlen_axis\u001b[0m \u001b[0;32mor\u001b[0m \u001b[0mkey\u001b[0m \u001b[0;34m<\u001b[0m \u001b[0;34m-\u001b[0m\u001b[0mlen_axis\u001b[0m\u001b[0;34m:\u001b[0m\u001b[0;34m\u001b[0m\u001b[0;34m\u001b[0m\u001b[0m\n\u001b[0;32m-> 1500\u001b[0;31m             \u001b[0;32mraise\u001b[0m \u001b[0mIndexError\u001b[0m\u001b[0;34m(\u001b[0m\u001b[0;34m\"single positional indexer is out-of-bounds\"\u001b[0m\u001b[0;34m)\u001b[0m\u001b[0;34m\u001b[0m\u001b[0;34m\u001b[0m\u001b[0m\n\u001b[0m\u001b[1;32m   1501\u001b[0m \u001b[0;34m\u001b[0m\u001b[0m\n\u001b[1;32m   1502\u001b[0m     \u001b[0;31m# -------------------------------------------------------------------\u001b[0m\u001b[0;34m\u001b[0m\u001b[0;34m\u001b[0m\u001b[0;34m\u001b[0m\u001b[0m\n",
            "\u001b[0;31mIndexError\u001b[0m: single positional indexer is out-of-bounds"
          ]
        }
      ],
      "source": [
        "debug_image(debug_data, 24)"
      ]
    },
    {
      "cell_type": "markdown",
      "metadata": {
        "id": "8HsLSx_iELlq"
      },
      "source": [
        "### 주석"
      ]
    }
  ],
  "metadata": {
    "accelerator": "GPU",
    "colab": {
      "collapsed_sections": [],
      "machine_shape": "hm",
      "name": "last_keras_resnet.ipynb",
      "provenance": [],
      "include_colab_link": true
    },
    "kernelspec": {
      "display_name": "Python 3 (ipykernel)",
      "language": "python",
      "name": "python3"
    },
    "language_info": {
      "codemirror_mode": {
        "name": "ipython",
        "version": 3
      },
      "file_extension": ".py",
      "mimetype": "text/x-python",
      "name": "python",
      "nbconvert_exporter": "python",
      "pygments_lexer": "ipython3",
      "version": "3.9.7"
    }
  },
  "nbformat": 4,
  "nbformat_minor": 0
}